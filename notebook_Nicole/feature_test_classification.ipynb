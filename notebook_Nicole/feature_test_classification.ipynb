{
 "cells": [
  {
   "cell_type": "markdown",
   "id": "fe13d1dd-e7f2-4030-b7af-66bd62b2f259",
   "metadata": {
    "id": "fe13d1dd-e7f2-4030-b7af-66bd62b2f259"
   },
   "source": [
    "### __Feature Selection__"
   ]
  },
  {
   "cell_type": "code",
   "execution_count": 1,
   "id": "96430964-58c1-4769-963a-911ad814432f",
   "metadata": {
    "id": "96430964-58c1-4769-963a-911ad814432f"
   },
   "outputs": [],
   "source": [
    "# import libraries\n",
    "import numpy as np\n",
    "import pandas as pd\n",
    "import random\n",
    "import io\n",
    "import requests\n",
    "from datetime import datetime, timezone, timedelta\n",
    "import datetime as dt\n",
    "import time\n",
    "from collections import Counter\n",
    "\n",
    "# import matplotlib\n",
    "from matplotlib import pyplot\n",
    "import matplotlib.pyplot as plt\n",
    "from matplotlib.pyplot import figure\n",
    "\n",
    "# import seaborn\n",
    "import seaborn as sns\n",
    "\n",
    "import warnings\n",
    "warnings.filterwarnings('ignore')\n",
    "\n",
    "# import category encoders\n",
    "#import category_encoders as ce\n",
    "\n",
    "import statsmodels.api as sm\n",
    "\n",
    "from sklearn.decomposition import PCA\n",
    "from sklearn.preprocessing import StandardScaler\n",
    "from sklearn.preprocessing import Normalizer\n",
    "import sklearn.model_selection as model_selection\n",
    "import sklearn.model_selection as cross_validation\n",
    "from sklearn.model_selection import GridSearchCV, RandomizedSearchCV\n",
    "from sklearn.model_selection import train_test_split\n",
    "from sklearn.model_selection import KFold\n",
    "import sklearn.metrics as metrics\n",
    "from sklearn.metrics import mean_squared_error\n",
    "from sklearn.metrics import mean_absolute_error\n",
    "from sklearn.metrics import r2_score\n",
    "from sklearn.metrics import accuracy_score\n",
    "from sklearn.metrics import f1_score\n",
    "from sklearn.metrics import precision_score\n",
    "from sklearn.metrics import recall_score\n",
    "from sklearn.metrics import log_loss\n",
    "from sklearn.metrics import roc_auc_score\n",
    "from sklearn.metrics import roc_curve\n",
    "from sklearn.metrics import plot_roc_curve\n",
    "from sklearn.metrics import average_precision_score, f1_score, classification_report\n",
    "from sklearn.metrics import confusion_matrix\n",
    "from sklearn.metrics import plot_precision_recall_curve, plot_confusion_matrix\n",
    "from sklearn.feature_selection import RFE\n",
    "from sklearn import linear_model, datasets\n",
    "from sklearn.linear_model import LinearRegression, Ridge\n",
    "from sklearn.linear_model import LogisticRegression, RidgeClassifier\n",
    "from sklearn.linear_model import SGDClassifier\n",
    "from sklearn.naive_bayes import GaussianNB\n",
    "from sklearn import svm\n",
    "from sklearn import tree\n",
    "from sklearn.tree import DecisionTreeClassifier\n",
    "from sklearn.tree import export_graphviz\n",
    "#from sklearn.externals.six import StringIO  \n",
    "from sklearn.ensemble import RandomForestClassifier\n",
    "\n",
    "import xgboost as xgb\n",
    "from xgboost import XGBClassifier\n",
    "\n",
    "#for showing 2D plot\n",
    "%matplotlib inline \n",
    "\n",
    "# to be able to see multiple ouputs from sungle cell\n",
    "from IPython.core.interactiveshell import InteractiveShell\n",
    "InteractiveShell.ast_node_interactivity = \"all\""
   ]
  },
  {
   "cell_type": "code",
   "execution_count": null,
   "id": "d9ba94e2-f9c6-4064-bfc2-e8e0e54dcd56",
   "metadata": {
    "id": "d9ba94e2-f9c6-4064-bfc2-e8e0e54dcd56"
   },
   "outputs": [],
   "source": []
  },
  {
   "cell_type": "code",
   "execution_count": 93,
   "id": "974fbf48-b393-4f70-aa1e-969d27801de1",
   "metadata": {
    "colab": {
     "base_uri": "https://localhost:8080/",
     "height": 1000
    },
    "id": "974fbf48-b393-4f70-aa1e-969d27801de1",
    "outputId": "c3613c83-35a5-462f-e3ef-9cb50f98c531"
   },
   "outputs": [
    {
     "name": "stdout",
     "output_type": "stream",
     "text": [
      "<class 'pandas.core.frame.DataFrame'>\n",
      "RangeIndex: 520681 entries, 0 to 520680\n",
      "Data columns (total 53 columns):\n",
      " #   Column                 Non-Null Count   Dtype  \n",
      "---  ------                 --------------   -----  \n",
      " 0   year                   520681 non-null  int64  \n",
      " 1   month                  520681 non-null  int64  \n",
      " 2   day_of_week            520681 non-null  int64  \n",
      " 3   mkt_carrier_fl_num     520681 non-null  int64  \n",
      " 4   tail_num               520681 non-null  int64  \n",
      " 5   op_carrier_fl_num      520681 non-null  int64  \n",
      " 6   origin                 520681 non-null  int64  \n",
      " 7   origin_city            520681 non-null  int64  \n",
      " 8   dest                   520681 non-null  int64  \n",
      " 9   dest_city              520681 non-null  int64  \n",
      " 10  crs_elapsed_time       520681 non-null  float64\n",
      " 11  flights                520681 non-null  float64\n",
      " 12  distance               520681 non-null  float64\n",
      " 13  mkt_unique_carrier_AA  520681 non-null  int64  \n",
      " 14  mkt_unique_carrier_AS  520681 non-null  int64  \n",
      " 15  mkt_unique_carrier_B6  520681 non-null  int64  \n",
      " 16  mkt_unique_carrier_DL  520681 non-null  int64  \n",
      " 17  mkt_unique_carrier_F9  520681 non-null  int64  \n",
      " 18  mkt_unique_carrier_G4  520681 non-null  int64  \n",
      " 19  mkt_unique_carrier_HA  520681 non-null  int64  \n",
      " 20  mkt_unique_carrier_NK  520681 non-null  int64  \n",
      " 21  mkt_unique_carrier_UA  520681 non-null  int64  \n",
      " 22  mkt_unique_carrier_VX  520681 non-null  int64  \n",
      " 23  mkt_unique_carrier_WN  520681 non-null  int64  \n",
      " 24  op_unique_carrier_9E   520681 non-null  int64  \n",
      " 25  op_unique_carrier_9K   520681 non-null  int64  \n",
      " 26  op_unique_carrier_AA   520681 non-null  int64  \n",
      " 27  op_unique_carrier_AS   520681 non-null  int64  \n",
      " 28  op_unique_carrier_AX   520681 non-null  int64  \n",
      " 29  op_unique_carrier_B6   520681 non-null  int64  \n",
      " 30  op_unique_carrier_C5   520681 non-null  int64  \n",
      " 31  op_unique_carrier_CP   520681 non-null  int64  \n",
      " 32  op_unique_carrier_DL   520681 non-null  int64  \n",
      " 33  op_unique_carrier_EM   520681 non-null  int64  \n",
      " 34  op_unique_carrier_EV   520681 non-null  int64  \n",
      " 35  op_unique_carrier_F9   520681 non-null  int64  \n",
      " 36  op_unique_carrier_G4   520681 non-null  int64  \n",
      " 37  op_unique_carrier_G7   520681 non-null  int64  \n",
      " 38  op_unique_carrier_HA   520681 non-null  int64  \n",
      " 39  op_unique_carrier_KS   520681 non-null  int64  \n",
      " 40  op_unique_carrier_MQ   520681 non-null  int64  \n",
      " 41  op_unique_carrier_NK   520681 non-null  int64  \n",
      " 42  op_unique_carrier_OH   520681 non-null  int64  \n",
      " 43  op_unique_carrier_OO   520681 non-null  int64  \n",
      " 44  op_unique_carrier_PT   520681 non-null  int64  \n",
      " 45  op_unique_carrier_QX   520681 non-null  int64  \n",
      " 46  op_unique_carrier_UA   520681 non-null  int64  \n",
      " 47  op_unique_carrier_VX   520681 non-null  int64  \n",
      " 48  op_unique_carrier_WN   520681 non-null  int64  \n",
      " 49  op_unique_carrier_YV   520681 non-null  int64  \n",
      " 50  op_unique_carrier_YX   520681 non-null  int64  \n",
      " 51  op_unique_carrier_ZW   520681 non-null  int64  \n",
      " 52  target_class           520681 non-null  int64  \n",
      "dtypes: float64(3), int64(50)\n",
      "memory usage: 210.5 MB\n"
     ]
    },
    {
     "data": {
      "text/html": [
       "\n",
       "  <div id=\"df-602a9df6-ed6e-4043-9325-8ebdb46893d2\">\n",
       "    <div class=\"colab-df-container\">\n",
       "      <div>\n",
       "<style scoped>\n",
       "    .dataframe tbody tr th:only-of-type {\n",
       "        vertical-align: middle;\n",
       "    }\n",
       "\n",
       "    .dataframe tbody tr th {\n",
       "        vertical-align: top;\n",
       "    }\n",
       "\n",
       "    .dataframe thead th {\n",
       "        text-align: right;\n",
       "    }\n",
       "</style>\n",
       "<table border=\"1\" class=\"dataframe\">\n",
       "  <thead>\n",
       "    <tr style=\"text-align: right;\">\n",
       "      <th></th>\n",
       "      <th>year</th>\n",
       "      <th>month</th>\n",
       "      <th>day_of_week</th>\n",
       "      <th>mkt_carrier_fl_num</th>\n",
       "      <th>tail_num</th>\n",
       "      <th>op_carrier_fl_num</th>\n",
       "      <th>origin</th>\n",
       "      <th>origin_city</th>\n",
       "      <th>dest</th>\n",
       "      <th>dest_city</th>\n",
       "      <th>...</th>\n",
       "      <th>op_unique_carrier_OO</th>\n",
       "      <th>op_unique_carrier_PT</th>\n",
       "      <th>op_unique_carrier_QX</th>\n",
       "      <th>op_unique_carrier_UA</th>\n",
       "      <th>op_unique_carrier_VX</th>\n",
       "      <th>op_unique_carrier_WN</th>\n",
       "      <th>op_unique_carrier_YV</th>\n",
       "      <th>op_unique_carrier_YX</th>\n",
       "      <th>op_unique_carrier_ZW</th>\n",
       "      <th>target_class</th>\n",
       "    </tr>\n",
       "  </thead>\n",
       "  <tbody>\n",
       "    <tr>\n",
       "      <th>0</th>\n",
       "      <td>2019</td>\n",
       "      <td>5</td>\n",
       "      <td>2</td>\n",
       "      <td>4593</td>\n",
       "      <td>3</td>\n",
       "      <td>4593</td>\n",
       "      <td>2</td>\n",
       "      <td>2</td>\n",
       "      <td>4</td>\n",
       "      <td>5</td>\n",
       "      <td>...</td>\n",
       "      <td>0</td>\n",
       "      <td>0</td>\n",
       "      <td>0</td>\n",
       "      <td>0</td>\n",
       "      <td>0</td>\n",
       "      <td>0</td>\n",
       "      <td>0</td>\n",
       "      <td>1</td>\n",
       "      <td>0</td>\n",
       "      <td>1</td>\n",
       "    </tr>\n",
       "    <tr>\n",
       "      <th>1</th>\n",
       "      <td>2019</td>\n",
       "      <td>5</td>\n",
       "      <td>2</td>\n",
       "      <td>4648</td>\n",
       "      <td>3</td>\n",
       "      <td>4648</td>\n",
       "      <td>1</td>\n",
       "      <td>1</td>\n",
       "      <td>5</td>\n",
       "      <td>5</td>\n",
       "      <td>...</td>\n",
       "      <td>0</td>\n",
       "      <td>0</td>\n",
       "      <td>0</td>\n",
       "      <td>0</td>\n",
       "      <td>0</td>\n",
       "      <td>0</td>\n",
       "      <td>0</td>\n",
       "      <td>1</td>\n",
       "      <td>0</td>\n",
       "      <td>1</td>\n",
       "    </tr>\n",
       "    <tr>\n",
       "      <th>2</th>\n",
       "      <td>2019</td>\n",
       "      <td>5</td>\n",
       "      <td>2</td>\n",
       "      <td>32</td>\n",
       "      <td>2</td>\n",
       "      <td>32</td>\n",
       "      <td>5</td>\n",
       "      <td>5</td>\n",
       "      <td>5</td>\n",
       "      <td>5</td>\n",
       "      <td>...</td>\n",
       "      <td>0</td>\n",
       "      <td>0</td>\n",
       "      <td>0</td>\n",
       "      <td>0</td>\n",
       "      <td>0</td>\n",
       "      <td>0</td>\n",
       "      <td>0</td>\n",
       "      <td>0</td>\n",
       "      <td>0</td>\n",
       "      <td>1</td>\n",
       "    </tr>\n",
       "    <tr>\n",
       "      <th>3</th>\n",
       "      <td>2019</td>\n",
       "      <td>5</td>\n",
       "      <td>2</td>\n",
       "      <td>327</td>\n",
       "      <td>1</td>\n",
       "      <td>327</td>\n",
       "      <td>5</td>\n",
       "      <td>4</td>\n",
       "      <td>3</td>\n",
       "      <td>3</td>\n",
       "      <td>...</td>\n",
       "      <td>0</td>\n",
       "      <td>0</td>\n",
       "      <td>0</td>\n",
       "      <td>0</td>\n",
       "      <td>0</td>\n",
       "      <td>0</td>\n",
       "      <td>0</td>\n",
       "      <td>0</td>\n",
       "      <td>0</td>\n",
       "      <td>1</td>\n",
       "    </tr>\n",
       "    <tr>\n",
       "      <th>4</th>\n",
       "      <td>2019</td>\n",
       "      <td>5</td>\n",
       "      <td>2</td>\n",
       "      <td>517</td>\n",
       "      <td>3</td>\n",
       "      <td>517</td>\n",
       "      <td>2</td>\n",
       "      <td>2</td>\n",
       "      <td>5</td>\n",
       "      <td>5</td>\n",
       "      <td>...</td>\n",
       "      <td>0</td>\n",
       "      <td>0</td>\n",
       "      <td>0</td>\n",
       "      <td>0</td>\n",
       "      <td>0</td>\n",
       "      <td>0</td>\n",
       "      <td>0</td>\n",
       "      <td>0</td>\n",
       "      <td>0</td>\n",
       "      <td>1</td>\n",
       "    </tr>\n",
       "  </tbody>\n",
       "</table>\n",
       "<p>5 rows × 53 columns</p>\n",
       "</div>\n",
       "      <button class=\"colab-df-convert\" onclick=\"convertToInteractive('df-602a9df6-ed6e-4043-9325-8ebdb46893d2')\"\n",
       "              title=\"Convert this dataframe to an interactive table.\"\n",
       "              style=\"display:none;\">\n",
       "        \n",
       "  <svg xmlns=\"http://www.w3.org/2000/svg\" height=\"24px\"viewBox=\"0 0 24 24\"\n",
       "       width=\"24px\">\n",
       "    <path d=\"M0 0h24v24H0V0z\" fill=\"none\"/>\n",
       "    <path d=\"M18.56 5.44l.94 2.06.94-2.06 2.06-.94-2.06-.94-.94-2.06-.94 2.06-2.06.94zm-11 1L8.5 8.5l.94-2.06 2.06-.94-2.06-.94L8.5 2.5l-.94 2.06-2.06.94zm10 10l.94 2.06.94-2.06 2.06-.94-2.06-.94-.94-2.06-.94 2.06-2.06.94z\"/><path d=\"M17.41 7.96l-1.37-1.37c-.4-.4-.92-.59-1.43-.59-.52 0-1.04.2-1.43.59L10.3 9.45l-7.72 7.72c-.78.78-.78 2.05 0 2.83L4 21.41c.39.39.9.59 1.41.59.51 0 1.02-.2 1.41-.59l7.78-7.78 2.81-2.81c.8-.78.8-2.07 0-2.86zM5.41 20L4 18.59l7.72-7.72 1.47 1.35L5.41 20z\"/>\n",
       "  </svg>\n",
       "      </button>\n",
       "      \n",
       "  <style>\n",
       "    .colab-df-container {\n",
       "      display:flex;\n",
       "      flex-wrap:wrap;\n",
       "      gap: 12px;\n",
       "    }\n",
       "\n",
       "    .colab-df-convert {\n",
       "      background-color: #E8F0FE;\n",
       "      border: none;\n",
       "      border-radius: 50%;\n",
       "      cursor: pointer;\n",
       "      display: none;\n",
       "      fill: #1967D2;\n",
       "      height: 32px;\n",
       "      padding: 0 0 0 0;\n",
       "      width: 32px;\n",
       "    }\n",
       "\n",
       "    .colab-df-convert:hover {\n",
       "      background-color: #E2EBFA;\n",
       "      box-shadow: 0px 1px 2px rgba(60, 64, 67, 0.3), 0px 1px 3px 1px rgba(60, 64, 67, 0.15);\n",
       "      fill: #174EA6;\n",
       "    }\n",
       "\n",
       "    [theme=dark] .colab-df-convert {\n",
       "      background-color: #3B4455;\n",
       "      fill: #D2E3FC;\n",
       "    }\n",
       "\n",
       "    [theme=dark] .colab-df-convert:hover {\n",
       "      background-color: #434B5C;\n",
       "      box-shadow: 0px 1px 3px 1px rgba(0, 0, 0, 0.15);\n",
       "      filter: drop-shadow(0px 1px 2px rgba(0, 0, 0, 0.3));\n",
       "      fill: #FFFFFF;\n",
       "    }\n",
       "  </style>\n",
       "\n",
       "      <script>\n",
       "        const buttonEl =\n",
       "          document.querySelector('#df-602a9df6-ed6e-4043-9325-8ebdb46893d2 button.colab-df-convert');\n",
       "        buttonEl.style.display =\n",
       "          google.colab.kernel.accessAllowed ? 'block' : 'none';\n",
       "\n",
       "        async function convertToInteractive(key) {\n",
       "          const element = document.querySelector('#df-602a9df6-ed6e-4043-9325-8ebdb46893d2');\n",
       "          const dataTable =\n",
       "            await google.colab.kernel.invokeFunction('convertToInteractive',\n",
       "                                                     [key], {});\n",
       "          if (!dataTable) return;\n",
       "\n",
       "          const docLinkHtml = 'Like what you see? Visit the ' +\n",
       "            '<a target=\"_blank\" href=https://colab.research.google.com/notebooks/data_table.ipynb>data table notebook</a>'\n",
       "            + ' to learn more about interactive tables.';\n",
       "          element.innerHTML = '';\n",
       "          dataTable['output_type'] = 'display_data';\n",
       "          await google.colab.output.renderOutput(dataTable, element);\n",
       "          const docLink = document.createElement('div');\n",
       "          docLink.innerHTML = docLinkHtml;\n",
       "          element.appendChild(docLink);\n",
       "        }\n",
       "      </script>\n",
       "    </div>\n",
       "  </div>\n",
       "  "
      ],
      "text/plain": [
       "   year  month  day_of_week  mkt_carrier_fl_num  tail_num  op_carrier_fl_num  \\\n",
       "0  2019      5            2                4593         3               4593   \n",
       "1  2019      5            2                4648         3               4648   \n",
       "2  2019      5            2                  32         2                 32   \n",
       "3  2019      5            2                 327         1                327   \n",
       "4  2019      5            2                 517         3                517   \n",
       "\n",
       "   origin  origin_city  dest  dest_city  ...  op_unique_carrier_OO  \\\n",
       "0       2            2     4          5  ...                     0   \n",
       "1       1            1     5          5  ...                     0   \n",
       "2       5            5     5          5  ...                     0   \n",
       "3       5            4     3          3  ...                     0   \n",
       "4       2            2     5          5  ...                     0   \n",
       "\n",
       "   op_unique_carrier_PT  op_unique_carrier_QX  op_unique_carrier_UA  \\\n",
       "0                     0                     0                     0   \n",
       "1                     0                     0                     0   \n",
       "2                     0                     0                     0   \n",
       "3                     0                     0                     0   \n",
       "4                     0                     0                     0   \n",
       "\n",
       "   op_unique_carrier_VX  op_unique_carrier_WN  op_unique_carrier_YV  \\\n",
       "0                     0                     0                     0   \n",
       "1                     0                     0                     0   \n",
       "2                     0                     0                     0   \n",
       "3                     0                     0                     0   \n",
       "4                     0                     0                     0   \n",
       "\n",
       "   op_unique_carrier_YX  op_unique_carrier_ZW  target_class  \n",
       "0                     1                     0             1  \n",
       "1                     1                     0             1  \n",
       "2                     0                     0             1  \n",
       "3                     0                     0             1  \n",
       "4                     0                     0             1  \n",
       "\n",
       "[5 rows x 53 columns]"
      ]
     },
     "execution_count": 93,
     "metadata": {},
     "output_type": "execute_result"
    }
   ],
   "source": [
    "# import work_df2\n",
    "work_df2 = pd.read_csv('work_df2_featur_eng.csv')\n",
    "work_df2.info()\n",
    "work_df2.head()"
   ]
  },
  {
   "cell_type": "markdown",
   "id": "c313e46c-0303-461a-9f08-c7f73ccb1a37",
   "metadata": {
    "id": "c313e46c-0303-461a-9f08-c7f73ccb1a37"
   },
   "source": [
    "#### __Feature Selection - 2nd Step__"
   ]
  },
  {
   "cell_type": "markdown",
   "id": "892ef006-a47d-4b04-aac4-6321ac2ec66e",
   "metadata": {
    "id": "892ef006-a47d-4b04-aac4-6321ac2ec66e"
   },
   "source": [
    "#### __A. RFE Run with non-scaled data__\n",
    "> - work_df2"
   ]
  },
  {
   "cell_type": "code",
   "execution_count": 2,
   "id": "6355fa2f-9072-4339-ba85-e255bb05e041",
   "metadata": {
    "id": "6355fa2f-9072-4339-ba85-e255bb05e041"
   },
   "outputs": [
    {
     "name": "stdout",
     "output_type": "stream",
     "text": [
      "<class 'pandas.core.frame.DataFrame'>\n",
      "RangeIndex: 520681 entries, 0 to 520680\n",
      "Data columns (total 52 columns):\n",
      " #   Column                 Non-Null Count   Dtype  \n",
      "---  ------                 --------------   -----  \n",
      " 0   year                   520681 non-null  int64  \n",
      " 1   month                  520681 non-null  int64  \n",
      " 2   day_of_week            520681 non-null  int64  \n",
      " 3   mkt_carrier_fl_num     520681 non-null  int64  \n",
      " 4   tail_num               520681 non-null  int64  \n",
      " 5   origin                 520681 non-null  int64  \n",
      " 6   origin_city            520681 non-null  int64  \n",
      " 7   dest                   520681 non-null  int64  \n",
      " 8   dest_city              520681 non-null  int64  \n",
      " 9   crs_elapsed_time       520681 non-null  float64\n",
      " 10  flights                520681 non-null  float64\n",
      " 11  distance               520681 non-null  float64\n",
      " 12  mkt_unique_carrier_AA  520681 non-null  int64  \n",
      " 13  mkt_unique_carrier_AS  520681 non-null  int64  \n",
      " 14  mkt_unique_carrier_B6  520681 non-null  int64  \n",
      " 15  mkt_unique_carrier_DL  520681 non-null  int64  \n",
      " 16  mkt_unique_carrier_F9  520681 non-null  int64  \n",
      " 17  mkt_unique_carrier_G4  520681 non-null  int64  \n",
      " 18  mkt_unique_carrier_HA  520681 non-null  int64  \n",
      " 19  mkt_unique_carrier_NK  520681 non-null  int64  \n",
      " 20  mkt_unique_carrier_UA  520681 non-null  int64  \n",
      " 21  mkt_unique_carrier_VX  520681 non-null  int64  \n",
      " 22  mkt_unique_carrier_WN  520681 non-null  int64  \n",
      " 23  op_unique_carrier_9E   520681 non-null  int64  \n",
      " 24  op_unique_carrier_9K   520681 non-null  int64  \n",
      " 25  op_unique_carrier_AA   520681 non-null  int64  \n",
      " 26  op_unique_carrier_AS   520681 non-null  int64  \n",
      " 27  op_unique_carrier_AX   520681 non-null  int64  \n",
      " 28  op_unique_carrier_B6   520681 non-null  int64  \n",
      " 29  op_unique_carrier_C5   520681 non-null  int64  \n",
      " 30  op_unique_carrier_CP   520681 non-null  int64  \n",
      " 31  op_unique_carrier_DL   520681 non-null  int64  \n",
      " 32  op_unique_carrier_EM   520681 non-null  int64  \n",
      " 33  op_unique_carrier_EV   520681 non-null  int64  \n",
      " 34  op_unique_carrier_F9   520681 non-null  int64  \n",
      " 35  op_unique_carrier_G4   520681 non-null  int64  \n",
      " 36  op_unique_carrier_G7   520681 non-null  int64  \n",
      " 37  op_unique_carrier_HA   520681 non-null  int64  \n",
      " 38  op_unique_carrier_KS   520681 non-null  int64  \n",
      " 39  op_unique_carrier_MQ   520681 non-null  int64  \n",
      " 40  op_unique_carrier_NK   520681 non-null  int64  \n",
      " 41  op_unique_carrier_OH   520681 non-null  int64  \n",
      " 42  op_unique_carrier_OO   520681 non-null  int64  \n",
      " 43  op_unique_carrier_PT   520681 non-null  int64  \n",
      " 44  op_unique_carrier_QX   520681 non-null  int64  \n",
      " 45  op_unique_carrier_UA   520681 non-null  int64  \n",
      " 46  op_unique_carrier_VX   520681 non-null  int64  \n",
      " 47  op_unique_carrier_WN   520681 non-null  int64  \n",
      " 48  op_unique_carrier_YV   520681 non-null  int64  \n",
      " 49  op_unique_carrier_YX   520681 non-null  int64  \n",
      " 50  op_unique_carrier_ZW   520681 non-null  int64  \n",
      " 51  target_class           520681 non-null  int64  \n",
      "dtypes: float64(3), int64(49)\n",
      "memory usage: 206.6 MB\n"
     ]
    },
    {
     "data": {
      "text/html": [
       "<div>\n",
       "<style scoped>\n",
       "    .dataframe tbody tr th:only-of-type {\n",
       "        vertical-align: middle;\n",
       "    }\n",
       "\n",
       "    .dataframe tbody tr th {\n",
       "        vertical-align: top;\n",
       "    }\n",
       "\n",
       "    .dataframe thead th {\n",
       "        text-align: right;\n",
       "    }\n",
       "</style>\n",
       "<table border=\"1\" class=\"dataframe\">\n",
       "  <thead>\n",
       "    <tr style=\"text-align: right;\">\n",
       "      <th></th>\n",
       "      <th>year</th>\n",
       "      <th>month</th>\n",
       "      <th>day_of_week</th>\n",
       "      <th>mkt_carrier_fl_num</th>\n",
       "      <th>tail_num</th>\n",
       "      <th>origin</th>\n",
       "      <th>origin_city</th>\n",
       "      <th>dest</th>\n",
       "      <th>dest_city</th>\n",
       "      <th>crs_elapsed_time</th>\n",
       "      <th>...</th>\n",
       "      <th>op_unique_carrier_OO</th>\n",
       "      <th>op_unique_carrier_PT</th>\n",
       "      <th>op_unique_carrier_QX</th>\n",
       "      <th>op_unique_carrier_UA</th>\n",
       "      <th>op_unique_carrier_VX</th>\n",
       "      <th>op_unique_carrier_WN</th>\n",
       "      <th>op_unique_carrier_YV</th>\n",
       "      <th>op_unique_carrier_YX</th>\n",
       "      <th>op_unique_carrier_ZW</th>\n",
       "      <th>target_class</th>\n",
       "    </tr>\n",
       "  </thead>\n",
       "  <tbody>\n",
       "    <tr>\n",
       "      <th>0</th>\n",
       "      <td>2019</td>\n",
       "      <td>5</td>\n",
       "      <td>2</td>\n",
       "      <td>4593</td>\n",
       "      <td>3</td>\n",
       "      <td>2</td>\n",
       "      <td>2</td>\n",
       "      <td>4</td>\n",
       "      <td>5</td>\n",
       "      <td>169.0</td>\n",
       "      <td>...</td>\n",
       "      <td>0</td>\n",
       "      <td>0</td>\n",
       "      <td>0</td>\n",
       "      <td>0</td>\n",
       "      <td>0</td>\n",
       "      <td>0</td>\n",
       "      <td>0</td>\n",
       "      <td>1</td>\n",
       "      <td>0</td>\n",
       "      <td>1</td>\n",
       "    </tr>\n",
       "    <tr>\n",
       "      <th>1</th>\n",
       "      <td>2019</td>\n",
       "      <td>5</td>\n",
       "      <td>2</td>\n",
       "      <td>4648</td>\n",
       "      <td>3</td>\n",
       "      <td>1</td>\n",
       "      <td>1</td>\n",
       "      <td>5</td>\n",
       "      <td>5</td>\n",
       "      <td>144.0</td>\n",
       "      <td>...</td>\n",
       "      <td>0</td>\n",
       "      <td>0</td>\n",
       "      <td>0</td>\n",
       "      <td>0</td>\n",
       "      <td>0</td>\n",
       "      <td>0</td>\n",
       "      <td>0</td>\n",
       "      <td>1</td>\n",
       "      <td>0</td>\n",
       "      <td>1</td>\n",
       "    </tr>\n",
       "    <tr>\n",
       "      <th>2</th>\n",
       "      <td>2019</td>\n",
       "      <td>5</td>\n",
       "      <td>2</td>\n",
       "      <td>32</td>\n",
       "      <td>2</td>\n",
       "      <td>5</td>\n",
       "      <td>5</td>\n",
       "      <td>5</td>\n",
       "      <td>5</td>\n",
       "      <td>134.0</td>\n",
       "      <td>...</td>\n",
       "      <td>0</td>\n",
       "      <td>0</td>\n",
       "      <td>0</td>\n",
       "      <td>0</td>\n",
       "      <td>0</td>\n",
       "      <td>0</td>\n",
       "      <td>0</td>\n",
       "      <td>0</td>\n",
       "      <td>0</td>\n",
       "      <td>1</td>\n",
       "    </tr>\n",
       "    <tr>\n",
       "      <th>3</th>\n",
       "      <td>2019</td>\n",
       "      <td>5</td>\n",
       "      <td>2</td>\n",
       "      <td>327</td>\n",
       "      <td>1</td>\n",
       "      <td>5</td>\n",
       "      <td>4</td>\n",
       "      <td>3</td>\n",
       "      <td>3</td>\n",
       "      <td>296.0</td>\n",
       "      <td>...</td>\n",
       "      <td>0</td>\n",
       "      <td>0</td>\n",
       "      <td>0</td>\n",
       "      <td>0</td>\n",
       "      <td>0</td>\n",
       "      <td>0</td>\n",
       "      <td>0</td>\n",
       "      <td>0</td>\n",
       "      <td>0</td>\n",
       "      <td>1</td>\n",
       "    </tr>\n",
       "    <tr>\n",
       "      <th>4</th>\n",
       "      <td>2019</td>\n",
       "      <td>5</td>\n",
       "      <td>2</td>\n",
       "      <td>517</td>\n",
       "      <td>3</td>\n",
       "      <td>2</td>\n",
       "      <td>2</td>\n",
       "      <td>5</td>\n",
       "      <td>5</td>\n",
       "      <td>85.0</td>\n",
       "      <td>...</td>\n",
       "      <td>0</td>\n",
       "      <td>0</td>\n",
       "      <td>0</td>\n",
       "      <td>0</td>\n",
       "      <td>0</td>\n",
       "      <td>0</td>\n",
       "      <td>0</td>\n",
       "      <td>0</td>\n",
       "      <td>0</td>\n",
       "      <td>1</td>\n",
       "    </tr>\n",
       "  </tbody>\n",
       "</table>\n",
       "<p>5 rows × 52 columns</p>\n",
       "</div>"
      ],
      "text/plain": [
       "   year  month  day_of_week  mkt_carrier_fl_num  tail_num  origin  \\\n",
       "0  2019      5            2                4593         3       2   \n",
       "1  2019      5            2                4648         3       1   \n",
       "2  2019      5            2                  32         2       5   \n",
       "3  2019      5            2                 327         1       5   \n",
       "4  2019      5            2                 517         3       2   \n",
       "\n",
       "   origin_city  dest  dest_city  crs_elapsed_time  ...  op_unique_carrier_OO  \\\n",
       "0            2     4          5             169.0  ...                     0   \n",
       "1            1     5          5             144.0  ...                     0   \n",
       "2            5     5          5             134.0  ...                     0   \n",
       "3            4     3          3             296.0  ...                     0   \n",
       "4            2     5          5              85.0  ...                     0   \n",
       "\n",
       "   op_unique_carrier_PT  op_unique_carrier_QX  op_unique_carrier_UA  \\\n",
       "0                     0                     0                     0   \n",
       "1                     0                     0                     0   \n",
       "2                     0                     0                     0   \n",
       "3                     0                     0                     0   \n",
       "4                     0                     0                     0   \n",
       "\n",
       "   op_unique_carrier_VX  op_unique_carrier_WN  op_unique_carrier_YV  \\\n",
       "0                     0                     0                     0   \n",
       "1                     0                     0                     0   \n",
       "2                     0                     0                     0   \n",
       "3                     0                     0                     0   \n",
       "4                     0                     0                     0   \n",
       "\n",
       "   op_unique_carrier_YX  op_unique_carrier_ZW  target_class  \n",
       "0                     1                     0             1  \n",
       "1                     1                     0             1  \n",
       "2                     0                     0             1  \n",
       "3                     0                     0             1  \n",
       "4                     0                     0             1  \n",
       "\n",
       "[5 rows x 52 columns]"
      ]
     },
     "execution_count": 2,
     "metadata": {},
     "output_type": "execute_result"
    }
   ],
   "source": [
    "# import work_df2 to csv\n",
    "work_df2 = pd.read_csv('work_df2_featur_engv2.csv')\n",
    "\n",
    "work_df2.info()\n",
    "work_df2.head()"
   ]
  },
  {
   "cell_type": "markdown",
   "id": "c1c79492-4d52-4e8f-924a-45dbc49144a4",
   "metadata": {
    "id": "c1c79492-4d52-4e8f-924a-45dbc49144a4"
   },
   "source": [
    "##### __Estimator: Decision Tree__"
   ]
  },
  {
   "cell_type": "code",
   "execution_count": 102,
   "id": "fc548b75-83de-44f7-8ba4-611b8d0f760e",
   "metadata": {
    "colab": {
     "base_uri": "https://localhost:8080/"
    },
    "id": "fc548b75-83de-44f7-8ba4-611b8d0f760e",
    "outputId": "99227d6f-edc7-467a-f871-083a48cb12d4"
   },
   "outputs": [
    {
     "data": {
      "text/plain": [
       "RFE(estimator=DecisionTreeClassifier(), n_features_to_select=30)"
      ]
     },
     "execution_count": 102,
     "metadata": {},
     "output_type": "execute_result"
    },
    {
     "name": "stdout",
     "output_type": "stream",
     "text": [
      "Column: 0, Selected True, Rank: 1.000\n",
      "Column: 1, Selected True, Rank: 1.000\n",
      "Column: 2, Selected True, Rank: 1.000\n",
      "Column: 3, Selected True, Rank: 1.000\n",
      "Column: 4, Selected True, Rank: 1.000\n",
      "Column: 5, Selected True, Rank: 1.000\n",
      "Column: 6, Selected True, Rank: 1.000\n",
      "Column: 7, Selected True, Rank: 1.000\n",
      "Column: 8, Selected True, Rank: 1.000\n",
      "Column: 9, Selected True, Rank: 1.000\n",
      "Column: 10, Selected False, Rank: 21.000\n",
      "Column: 11, Selected True, Rank: 1.000\n",
      "Column: 12, Selected True, Rank: 1.000\n",
      "Column: 13, Selected True, Rank: 1.000\n",
      "Column: 14, Selected True, Rank: 1.000\n",
      "Column: 15, Selected True, Rank: 1.000\n",
      "Column: 16, Selected True, Rank: 1.000\n",
      "Column: 17, Selected False, Rank: 9.000\n",
      "Column: 18, Selected False, Rank: 16.000\n",
      "Column: 19, Selected True, Rank: 1.000\n",
      "Column: 20, Selected True, Rank: 1.000\n",
      "Column: 21, Selected False, Rank: 20.000\n",
      "Column: 22, Selected True, Rank: 1.000\n",
      "Column: 23, Selected False, Rank: 5.000\n",
      "Column: 24, Selected False, Rank: 22.000\n",
      "Column: 25, Selected True, Rank: 1.000\n",
      "Column: 26, Selected True, Rank: 1.000\n",
      "Column: 27, Selected False, Rank: 3.000\n",
      "Column: 28, Selected True, Rank: 1.000\n",
      "Column: 29, Selected False, Rank: 11.000\n",
      "Column: 30, Selected False, Rank: 12.000\n",
      "Column: 31, Selected False, Rank: 15.000\n",
      "Column: 32, Selected False, Rank: 19.000\n",
      "Column: 33, Selected True, Rank: 1.000\n",
      "Column: 34, Selected False, Rank: 4.000\n",
      "Column: 35, Selected False, Rank: 13.000\n",
      "Column: 36, Selected False, Rank: 6.000\n",
      "Column: 37, Selected False, Rank: 14.000\n",
      "Column: 38, Selected False, Rank: 17.000\n",
      "Column: 39, Selected True, Rank: 1.000\n",
      "Column: 40, Selected True, Rank: 1.000\n",
      "Column: 41, Selected True, Rank: 1.000\n",
      "Column: 42, Selected True, Rank: 1.000\n",
      "Column: 43, Selected False, Rank: 8.000\n",
      "Column: 44, Selected False, Rank: 10.000\n",
      "Column: 45, Selected True, Rank: 1.000\n",
      "Column: 46, Selected False, Rank: 18.000\n",
      "Column: 47, Selected True, Rank: 1.000\n",
      "Column: 48, Selected False, Rank: 7.000\n",
      "Column: 49, Selected True, Rank: 1.000\n",
      "Column: 50, Selected False, Rank: 2.000\n",
      "\n",
      "\n",
      "--- 175.63790917396545 seconds ---\n"
     ]
    }
   ],
   "source": [
    "# start time to measure the time of the program execution\n",
    "start_time = time.time()\n",
    "\n",
    "# Feature Selections through RFE\n",
    "# from sklearn.feature_selection import RFE\n",
    "\n",
    "# define X & y\n",
    "X = work_df2.iloc[:, :51].values\n",
    "y = work_df2.iloc[:, 51].values\n",
    "\n",
    "# define RFE\n",
    "rfe = RFE(estimator=DecisionTreeClassifier(), n_features_to_select=30)\n",
    "\n",
    "# fit RFE\n",
    "rfe.fit(X, y)\n",
    "\n",
    "# summarize all features\n",
    "for i in range(X.shape[1]):\n",
    "    print('Column: %d, Selected %s, Rank: %.3f' % (i, rfe.support_[i], rfe.ranking_[i]))\n",
    "\n",
    "# print the overall program runtime.\n",
    "print(f\"\\n\\n--- {(time.time() - start_time)} seconds ---\")"
   ]
  },
  {
   "cell_type": "markdown",
   "id": "e5e090c4-33d6-4830-9e8e-6d7bffd89b0a",
   "metadata": {
    "id": "e5e090c4-33d6-4830-9e8e-6d7bffd89b0a"
   },
   "source": [
    "##### __Estimator: Logistic Regression__"
   ]
  },
  {
   "cell_type": "code",
   "execution_count": null,
   "id": "1d55140a-dd3e-41e8-ac3e-f5ef04811375",
   "metadata": {
    "id": "1d55140a-dd3e-41e8-ac3e-f5ef04811375",
    "outputId": "2583fe7c-94d3-4904-9dde-d54cdc0e4b21"
   },
   "outputs": [
    {
     "data": {
      "text/plain": [
       "RFE(estimator=LogisticRegression(), n_features_to_select=30)"
      ]
     },
     "execution_count": 122,
     "metadata": {},
     "output_type": "execute_result"
    },
    {
     "name": "stdout",
     "output_type": "stream",
     "text": [
      "Column: 0, Selected False, Rank: 17.000\n",
      "Column: 1, Selected False, Rank: 12.000\n",
      "Column: 2, Selected False, Rank: 10.000\n",
      "Column: 3, Selected False, Rank: 20.000\n",
      "Column: 4, Selected True, Rank: 1.000\n",
      "Column: 5, Selected True, Rank: 1.000\n",
      "Column: 6, Selected False, Rank: 4.000\n",
      "Column: 7, Selected False, Rank: 2.000\n",
      "Column: 8, Selected False, Rank: 9.000\n",
      "Column: 9, Selected False, Rank: 13.000\n",
      "Column: 10, Selected False, Rank: 22.000\n",
      "Column: 11, Selected False, Rank: 14.000\n",
      "Column: 12, Selected True, Rank: 1.000\n",
      "Column: 13, Selected False, Rank: 16.000\n",
      "Column: 14, Selected True, Rank: 1.000\n",
      "Column: 15, Selected False, Rank: 5.000\n",
      "Column: 16, Selected True, Rank: 1.000\n",
      "Column: 17, Selected True, Rank: 1.000\n",
      "Column: 18, Selected False, Rank: 19.000\n",
      "Column: 19, Selected True, Rank: 1.000\n",
      "Column: 20, Selected True, Rank: 1.000\n",
      "Column: 21, Selected True, Rank: 1.000\n",
      "Column: 22, Selected True, Rank: 1.000\n",
      "Column: 23, Selected True, Rank: 1.000\n",
      "Column: 24, Selected False, Rank: 18.000\n",
      "Column: 25, Selected True, Rank: 1.000\n",
      "Column: 26, Selected False, Rank: 15.000\n",
      "Column: 27, Selected True, Rank: 1.000\n",
      "Column: 28, Selected True, Rank: 1.000\n",
      "Column: 29, Selected True, Rank: 1.000\n",
      "Column: 30, Selected True, Rank: 1.000\n",
      "Column: 31, Selected True, Rank: 1.000\n",
      "Column: 32, Selected True, Rank: 1.000\n",
      "Column: 33, Selected False, Rank: 8.000\n",
      "Column: 34, Selected True, Rank: 1.000\n",
      "Column: 35, Selected True, Rank: 1.000\n",
      "Column: 36, Selected True, Rank: 1.000\n",
      "Column: 37, Selected False, Rank: 21.000\n",
      "Column: 38, Selected True, Rank: 1.000\n",
      "Column: 39, Selected False, Rank: 6.000\n",
      "Column: 40, Selected True, Rank: 1.000\n",
      "Column: 41, Selected True, Rank: 1.000\n",
      "Column: 42, Selected True, Rank: 1.000\n",
      "Column: 43, Selected False, Rank: 11.000\n",
      "Column: 44, Selected True, Rank: 1.000\n",
      "Column: 45, Selected True, Rank: 1.000\n",
      "Column: 46, Selected True, Rank: 1.000\n",
      "Column: 47, Selected False, Rank: 3.000\n",
      "Column: 48, Selected False, Rank: 7.000\n",
      "Column: 49, Selected True, Rank: 1.000\n",
      "Column: 50, Selected True, Rank: 1.000\n",
      "\n",
      "\n",
      "--- 260.0269241333008 seconds ---\n"
     ]
    }
   ],
   "source": [
    "# start time to measure the time of the program execution\n",
    "start_time = time.time()\n",
    "\n",
    "# Feature Selections through RFE\n",
    "# from sklearn.feature_selection import RFE\n",
    "\n",
    "# define RFE\n",
    "rfe2 = RFE(estimator=LogisticRegression(), n_features_to_select=30)\n",
    "\n",
    "# fit RFE\n",
    "rfe2.fit(X, y)\n",
    "\n",
    "# summarize all features\n",
    "for i in range(X.shape[1]):\n",
    "    print('Column: %d, Selected %s, Rank: %.3f' % (i, rfe2.support_[i], rfe2.ranking_[i]))\n",
    "\n",
    "# print the overall program runtime.\n",
    "print(f\"\\n\\n--- {(time.time() - start_time)} seconds ---\")"
   ]
  },
  {
   "cell_type": "code",
   "execution_count": null,
   "id": "e202caa4-83b4-4aa6-a196-f444185b81ef",
   "metadata": {
    "id": "e202caa4-83b4-4aa6-a196-f444185b81ef"
   },
   "outputs": [],
   "source": []
  },
  {
   "cell_type": "markdown",
   "id": "07b22da1-8a40-4f1b-96da-607e7da6a86b",
   "metadata": {
    "id": "07b22da1-8a40-4f1b-96da-607e7da6a86b"
   },
   "source": [
    "#### __B. RFE Run with scaled data__\n",
    "> - work_df3"
   ]
  },
  {
   "cell_type": "code",
   "execution_count": 2,
   "id": "5CrGXmxK3LL7",
   "metadata": {
    "colab": {
     "base_uri": "https://localhost:8080/",
     "height": 1000
    },
    "id": "5CrGXmxK3LL7",
    "outputId": "2efcc868-a6a8-4a20-8a92-acff002d24e0"
   },
   "outputs": [
    {
     "name": "stdout",
     "output_type": "stream",
     "text": [
      "<class 'pandas.core.frame.DataFrame'>\n",
      "RangeIndex: 520681 entries, 0 to 520680\n",
      "Data columns (total 52 columns):\n",
      " #   Column                 Non-Null Count   Dtype  \n",
      "---  ------                 --------------   -----  \n",
      " 0   year                   520681 non-null  int64  \n",
      " 1   month                  520681 non-null  int64  \n",
      " 2   day_of_week            520681 non-null  int64  \n",
      " 3   mkt_carrier_fl_num     520681 non-null  float64\n",
      " 4   tail_num               520681 non-null  int64  \n",
      " 5   origin                 520681 non-null  int64  \n",
      " 6   origin_city            520681 non-null  int64  \n",
      " 7   dest                   520681 non-null  int64  \n",
      " 8   dest_city              520681 non-null  int64  \n",
      " 9   crs_elapsed_time       520681 non-null  float64\n",
      " 10  flights                520681 non-null  float64\n",
      " 11  distance               520681 non-null  float64\n",
      " 12  mkt_unique_carrier_AA  520681 non-null  int64  \n",
      " 13  mkt_unique_carrier_AS  520681 non-null  int64  \n",
      " 14  mkt_unique_carrier_B6  520681 non-null  int64  \n",
      " 15  mkt_unique_carrier_DL  520681 non-null  int64  \n",
      " 16  mkt_unique_carrier_F9  520681 non-null  int64  \n",
      " 17  mkt_unique_carrier_G4  520681 non-null  int64  \n",
      " 18  mkt_unique_carrier_HA  520681 non-null  int64  \n",
      " 19  mkt_unique_carrier_NK  520681 non-null  int64  \n",
      " 20  mkt_unique_carrier_UA  520681 non-null  int64  \n",
      " 21  mkt_unique_carrier_VX  520681 non-null  int64  \n",
      " 22  mkt_unique_carrier_WN  520681 non-null  int64  \n",
      " 23  op_unique_carrier_9E   520681 non-null  int64  \n",
      " 24  op_unique_carrier_9K   520681 non-null  int64  \n",
      " 25  op_unique_carrier_AA   520681 non-null  int64  \n",
      " 26  op_unique_carrier_AS   520681 non-null  int64  \n",
      " 27  op_unique_carrier_AX   520681 non-null  int64  \n",
      " 28  op_unique_carrier_B6   520681 non-null  int64  \n",
      " 29  op_unique_carrier_C5   520681 non-null  int64  \n",
      " 30  op_unique_carrier_CP   520681 non-null  int64  \n",
      " 31  op_unique_carrier_DL   520681 non-null  int64  \n",
      " 32  op_unique_carrier_EM   520681 non-null  int64  \n",
      " 33  op_unique_carrier_EV   520681 non-null  int64  \n",
      " 34  op_unique_carrier_F9   520681 non-null  int64  \n",
      " 35  op_unique_carrier_G4   520681 non-null  int64  \n",
      " 36  op_unique_carrier_G7   520681 non-null  int64  \n",
      " 37  op_unique_carrier_HA   520681 non-null  int64  \n",
      " 38  op_unique_carrier_KS   520681 non-null  int64  \n",
      " 39  op_unique_carrier_MQ   520681 non-null  int64  \n",
      " 40  op_unique_carrier_NK   520681 non-null  int64  \n",
      " 41  op_unique_carrier_OH   520681 non-null  int64  \n",
      " 42  op_unique_carrier_OO   520681 non-null  int64  \n",
      " 43  op_unique_carrier_PT   520681 non-null  int64  \n",
      " 44  op_unique_carrier_QX   520681 non-null  int64  \n",
      " 45  op_unique_carrier_UA   520681 non-null  int64  \n",
      " 46  op_unique_carrier_VX   520681 non-null  int64  \n",
      " 47  op_unique_carrier_WN   520681 non-null  int64  \n",
      " 48  op_unique_carrier_YV   520681 non-null  int64  \n",
      " 49  op_unique_carrier_YX   520681 non-null  int64  \n",
      " 50  op_unique_carrier_ZW   520681 non-null  int64  \n",
      " 51  target_class           520681 non-null  int64  \n",
      "dtypes: float64(4), int64(48)\n",
      "memory usage: 206.6 MB\n"
     ]
    },
    {
     "data": {
      "text/html": [
       "<div>\n",
       "<style scoped>\n",
       "    .dataframe tbody tr th:only-of-type {\n",
       "        vertical-align: middle;\n",
       "    }\n",
       "\n",
       "    .dataframe tbody tr th {\n",
       "        vertical-align: top;\n",
       "    }\n",
       "\n",
       "    .dataframe thead th {\n",
       "        text-align: right;\n",
       "    }\n",
       "</style>\n",
       "<table border=\"1\" class=\"dataframe\">\n",
       "  <thead>\n",
       "    <tr style=\"text-align: right;\">\n",
       "      <th></th>\n",
       "      <th>year</th>\n",
       "      <th>month</th>\n",
       "      <th>day_of_week</th>\n",
       "      <th>mkt_carrier_fl_num</th>\n",
       "      <th>tail_num</th>\n",
       "      <th>origin</th>\n",
       "      <th>origin_city</th>\n",
       "      <th>dest</th>\n",
       "      <th>dest_city</th>\n",
       "      <th>crs_elapsed_time</th>\n",
       "      <th>...</th>\n",
       "      <th>op_unique_carrier_OO</th>\n",
       "      <th>op_unique_carrier_PT</th>\n",
       "      <th>op_unique_carrier_QX</th>\n",
       "      <th>op_unique_carrier_UA</th>\n",
       "      <th>op_unique_carrier_VX</th>\n",
       "      <th>op_unique_carrier_WN</th>\n",
       "      <th>op_unique_carrier_YV</th>\n",
       "      <th>op_unique_carrier_YX</th>\n",
       "      <th>op_unique_carrier_ZW</th>\n",
       "      <th>target_class</th>\n",
       "    </tr>\n",
       "  </thead>\n",
       "  <tbody>\n",
       "    <tr>\n",
       "      <th>0</th>\n",
       "      <td>2019</td>\n",
       "      <td>5</td>\n",
       "      <td>2</td>\n",
       "      <td>1.007068</td>\n",
       "      <td>3</td>\n",
       "      <td>2</td>\n",
       "      <td>2</td>\n",
       "      <td>4</td>\n",
       "      <td>5</td>\n",
       "      <td>0.425950</td>\n",
       "      <td>...</td>\n",
       "      <td>0</td>\n",
       "      <td>0</td>\n",
       "      <td>0</td>\n",
       "      <td>0</td>\n",
       "      <td>0</td>\n",
       "      <td>0</td>\n",
       "      <td>0</td>\n",
       "      <td>1</td>\n",
       "      <td>0</td>\n",
       "      <td>1</td>\n",
       "    </tr>\n",
       "    <tr>\n",
       "      <th>1</th>\n",
       "      <td>2019</td>\n",
       "      <td>5</td>\n",
       "      <td>2</td>\n",
       "      <td>1.036667</td>\n",
       "      <td>3</td>\n",
       "      <td>1</td>\n",
       "      <td>1</td>\n",
       "      <td>5</td>\n",
       "      <td>5</td>\n",
       "      <td>0.077483</td>\n",
       "      <td>...</td>\n",
       "      <td>0</td>\n",
       "      <td>0</td>\n",
       "      <td>0</td>\n",
       "      <td>0</td>\n",
       "      <td>0</td>\n",
       "      <td>0</td>\n",
       "      <td>0</td>\n",
       "      <td>1</td>\n",
       "      <td>0</td>\n",
       "      <td>1</td>\n",
       "    </tr>\n",
       "    <tr>\n",
       "      <th>2</th>\n",
       "      <td>2019</td>\n",
       "      <td>5</td>\n",
       "      <td>2</td>\n",
       "      <td>-1.447481</td>\n",
       "      <td>2</td>\n",
       "      <td>5</td>\n",
       "      <td>5</td>\n",
       "      <td>5</td>\n",
       "      <td>5</td>\n",
       "      <td>-0.061903</td>\n",
       "      <td>...</td>\n",
       "      <td>0</td>\n",
       "      <td>0</td>\n",
       "      <td>0</td>\n",
       "      <td>0</td>\n",
       "      <td>0</td>\n",
       "      <td>0</td>\n",
       "      <td>0</td>\n",
       "      <td>0</td>\n",
       "      <td>0</td>\n",
       "      <td>1</td>\n",
       "    </tr>\n",
       "  </tbody>\n",
       "</table>\n",
       "<p>3 rows × 52 columns</p>\n",
       "</div>"
      ],
      "text/plain": [
       "   year  month  day_of_week  mkt_carrier_fl_num  tail_num  origin  \\\n",
       "0  2019      5            2            1.007068         3       2   \n",
       "1  2019      5            2            1.036667         3       1   \n",
       "2  2019      5            2           -1.447481         2       5   \n",
       "\n",
       "   origin_city  dest  dest_city  crs_elapsed_time  ...  op_unique_carrier_OO  \\\n",
       "0            2     4          5          0.425950  ...                     0   \n",
       "1            1     5          5          0.077483  ...                     0   \n",
       "2            5     5          5         -0.061903  ...                     0   \n",
       "\n",
       "   op_unique_carrier_PT  op_unique_carrier_QX  op_unique_carrier_UA  \\\n",
       "0                     0                     0                     0   \n",
       "1                     0                     0                     0   \n",
       "2                     0                     0                     0   \n",
       "\n",
       "   op_unique_carrier_VX  op_unique_carrier_WN  op_unique_carrier_YV  \\\n",
       "0                     0                     0                     0   \n",
       "1                     0                     0                     0   \n",
       "2                     0                     0                     0   \n",
       "\n",
       "   op_unique_carrier_YX  op_unique_carrier_ZW  target_class  \n",
       "0                     1                     0             1  \n",
       "1                     1                     0             1  \n",
       "2                     0                     0             1  \n",
       "\n",
       "[3 rows x 52 columns]"
      ]
     },
     "execution_count": 2,
     "metadata": {},
     "output_type": "execute_result"
    }
   ],
   "source": [
    "\n",
    "work_df3 = pd.read_csv('work_df3_scaledfeatur_eng.csv')\n",
    "work_df3.info()\n",
    "work_df3.head(3)"
   ]
  },
  {
   "cell_type": "code",
   "execution_count": null,
   "id": "b66230ae-a8d5-4aa2-889d-6a1a21e2c4d6",
   "metadata": {
    "id": "b66230ae-a8d5-4aa2-889d-6a1a21e2c4d6",
    "outputId": "0c508fe5-c3c9-4335-cc17-f1751390e697"
   },
   "outputs": [
    {
     "data": {
      "text/plain": [
       "RFE(estimator=DecisionTreeClassifier(), n_features_to_select=30)"
      ]
     },
     "execution_count": 125,
     "metadata": {},
     "output_type": "execute_result"
    },
    {
     "name": "stdout",
     "output_type": "stream",
     "text": [
      "Column: 0, Selected True, Rank: 1.000\n",
      "Column: 1, Selected True, Rank: 1.000\n",
      "Column: 2, Selected True, Rank: 1.000\n",
      "Column: 3, Selected True, Rank: 1.000\n",
      "Column: 4, Selected True, Rank: 1.000\n",
      "Column: 5, Selected True, Rank: 1.000\n",
      "Column: 6, Selected True, Rank: 1.000\n",
      "Column: 7, Selected True, Rank: 1.000\n",
      "Column: 8, Selected True, Rank: 1.000\n",
      "Column: 9, Selected True, Rank: 1.000\n",
      "Column: 10, Selected False, Rank: 21.000\n",
      "Column: 11, Selected True, Rank: 1.000\n",
      "Column: 12, Selected True, Rank: 1.000\n",
      "Column: 13, Selected True, Rank: 1.000\n",
      "Column: 14, Selected True, Rank: 1.000\n",
      "Column: 15, Selected True, Rank: 1.000\n",
      "Column: 16, Selected True, Rank: 1.000\n",
      "Column: 17, Selected False, Rank: 14.000\n",
      "Column: 18, Selected False, Rank: 16.000\n",
      "Column: 19, Selected True, Rank: 1.000\n",
      "Column: 20, Selected True, Rank: 1.000\n",
      "Column: 21, Selected False, Rank: 19.000\n",
      "Column: 22, Selected True, Rank: 1.000\n",
      "Column: 23, Selected False, Rank: 5.000\n",
      "Column: 24, Selected False, Rank: 22.000\n",
      "Column: 25, Selected True, Rank: 1.000\n",
      "Column: 26, Selected True, Rank: 1.000\n",
      "Column: 27, Selected False, Rank: 3.000\n",
      "Column: 28, Selected True, Rank: 1.000\n",
      "Column: 29, Selected False, Rank: 11.000\n",
      "Column: 30, Selected False, Rank: 12.000\n",
      "Column: 31, Selected False, Rank: 15.000\n",
      "Column: 32, Selected False, Rank: 20.000\n",
      "Column: 33, Selected True, Rank: 1.000\n",
      "Column: 34, Selected False, Rank: 4.000\n",
      "Column: 35, Selected False, Rank: 9.000\n",
      "Column: 36, Selected False, Rank: 6.000\n",
      "Column: 37, Selected False, Rank: 13.000\n",
      "Column: 38, Selected False, Rank: 17.000\n",
      "Column: 39, Selected True, Rank: 1.000\n",
      "Column: 40, Selected True, Rank: 1.000\n",
      "Column: 41, Selected False, Rank: 2.000\n",
      "Column: 42, Selected True, Rank: 1.000\n",
      "Column: 43, Selected False, Rank: 8.000\n",
      "Column: 44, Selected False, Rank: 10.000\n",
      "Column: 45, Selected True, Rank: 1.000\n",
      "Column: 46, Selected False, Rank: 18.000\n",
      "Column: 47, Selected True, Rank: 1.000\n",
      "Column: 48, Selected False, Rank: 7.000\n",
      "Column: 49, Selected True, Rank: 1.000\n",
      "Column: 50, Selected True, Rank: 1.000\n",
      "\n",
      "\n",
      "--- 155.78345489501953 seconds ---\n"
     ]
    }
   ],
   "source": [
    "# start time to measure the time of the program execution\n",
    "start_time = time.time()\n",
    "\n",
    "# Feature Selections through RFE\n",
    "# from sklearn.feature_selection import RFE\n",
    "\n",
    "# define X & y\n",
    "X1 = work_df3.iloc[:, :51].values\n",
    "y1 = work_df3.iloc[:, 51].values\n",
    "\n",
    "# define RFE\n",
    "rfe3 = RFE(estimator=DecisionTreeClassifier(), n_features_to_select=30)\n",
    "\n",
    "# fit RFE\n",
    "rfe3.fit(X1, y1)\n",
    "\n",
    "# summarize all features\n",
    "for i in range(X1.shape[1]):\n",
    "    print('Column: %d, Selected %s, Rank: %.3f' % (i, rfe3.support_[i], rfe3.ranking_[i]))\n",
    "\n",
    "# print the overall program runtime.\n",
    "print(f\"\\n\\n--- {(time.time() - start_time)} seconds ---\")"
   ]
  },
  {
   "cell_type": "code",
   "execution_count": null,
   "id": "2e428754-4449-4094-a657-0d286f449640",
   "metadata": {
    "id": "2e428754-4449-4094-a657-0d286f449640"
   },
   "outputs": [],
   "source": []
  },
  {
   "cell_type": "code",
   "execution_count": null,
   "id": "a638ad2b-b386-434c-9e1b-56669be0db65",
   "metadata": {
    "id": "a638ad2b-b386-434c-9e1b-56669be0db65",
    "outputId": "c0b3fcb9-f94b-4f1e-b8cf-bf2269a6d05d"
   },
   "outputs": [
    {
     "data": {
      "text/plain": [
       "RFE(estimator=LogisticRegression(), n_features_to_select=30)"
      ]
     },
     "execution_count": 126,
     "metadata": {},
     "output_type": "execute_result"
    },
    {
     "name": "stdout",
     "output_type": "stream",
     "text": [
      "Column: 0, Selected False, Rank: 19.000\n",
      "Column: 1, Selected False, Rank: 17.000\n",
      "Column: 2, Selected False, Rank: 16.000\n",
      "Column: 3, Selected False, Rank: 10.000\n",
      "Column: 4, Selected True, Rank: 1.000\n",
      "Column: 5, Selected True, Rank: 1.000\n",
      "Column: 6, Selected False, Rank: 5.000\n",
      "Column: 7, Selected False, Rank: 4.000\n",
      "Column: 8, Selected False, Rank: 15.000\n",
      "Column: 9, Selected True, Rank: 1.000\n",
      "Column: 10, Selected False, Rank: 22.000\n",
      "Column: 11, Selected True, Rank: 1.000\n",
      "Column: 12, Selected False, Rank: 8.000\n",
      "Column: 13, Selected True, Rank: 1.000\n",
      "Column: 14, Selected False, Rank: 11.000\n",
      "Column: 15, Selected True, Rank: 1.000\n",
      "Column: 16, Selected True, Rank: 1.000\n",
      "Column: 17, Selected True, Rank: 1.000\n",
      "Column: 18, Selected False, Rank: 3.000\n",
      "Column: 19, Selected True, Rank: 1.000\n",
      "Column: 20, Selected False, Rank: 18.000\n",
      "Column: 21, Selected True, Rank: 1.000\n",
      "Column: 22, Selected True, Rank: 1.000\n",
      "Column: 23, Selected True, Rank: 1.000\n",
      "Column: 24, Selected False, Rank: 20.000\n",
      "Column: 25, Selected True, Rank: 1.000\n",
      "Column: 26, Selected True, Rank: 1.000\n",
      "Column: 27, Selected True, Rank: 1.000\n",
      "Column: 28, Selected False, Rank: 13.000\n",
      "Column: 29, Selected True, Rank: 1.000\n",
      "Column: 30, Selected True, Rank: 1.000\n",
      "Column: 31, Selected True, Rank: 1.000\n",
      "Column: 32, Selected True, Rank: 1.000\n",
      "Column: 33, Selected False, Rank: 14.000\n",
      "Column: 34, Selected True, Rank: 1.000\n",
      "Column: 35, Selected False, Rank: 2.000\n",
      "Column: 36, Selected True, Rank: 1.000\n",
      "Column: 37, Selected True, Rank: 1.000\n",
      "Column: 38, Selected True, Rank: 1.000\n",
      "Column: 39, Selected False, Rank: 12.000\n",
      "Column: 40, Selected True, Rank: 1.000\n",
      "Column: 41, Selected True, Rank: 1.000\n",
      "Column: 42, Selected False, Rank: 7.000\n",
      "Column: 43, Selected False, Rank: 21.000\n",
      "Column: 44, Selected True, Rank: 1.000\n",
      "Column: 45, Selected True, Rank: 1.000\n",
      "Column: 46, Selected True, Rank: 1.000\n",
      "Column: 47, Selected False, Rank: 6.000\n",
      "Column: 48, Selected False, Rank: 9.000\n",
      "Column: 49, Selected True, Rank: 1.000\n",
      "Column: 50, Selected True, Rank: 1.000\n",
      "\n",
      "\n",
      "--- 238.56309247016907 seconds ---\n"
     ]
    }
   ],
   "source": [
    "# start time to measure the time of the program execution\n",
    "start_time = time.time()\n",
    "\n",
    "# Feature Selections through RFE\n",
    "# from sklearn.feature_selection import RFE\n",
    "\n",
    "# define RFE\n",
    "rfe4 = RFE(estimator=LogisticRegression(), n_features_to_select=30)\n",
    "\n",
    "# fit RFE\n",
    "rfe4.fit(X1, y1)\n",
    "\n",
    "# summarize all features\n",
    "for i in range(X1.shape[1]):\n",
    "    print('Column: %d, Selected %s, Rank: %.3f' % (i, rfe4.support_[i], rfe4.ranking_[i]))\n",
    "\n",
    "# print the overall program runtime.\n",
    "print(f\"\\n\\n--- {(time.time() - start_time)} seconds ---\")"
   ]
  },
  {
   "cell_type": "code",
   "execution_count": null,
   "id": "1505cf96-e942-44dd-bb4f-91730840ead1",
   "metadata": {
    "id": "1505cf96-e942-44dd-bb4f-91730840ead1"
   },
   "outputs": [],
   "source": []
  },
  {
   "cell_type": "markdown",
   "id": "554250ac-b6a3-4edb-acb9-b17c55ee5512",
   "metadata": {
    "id": "554250ac-b6a3-4edb-acb9-b17c55ee5512"
   },
   "source": [
    "#### __Random Forest Feature Importance__"
   ]
  },
  {
   "cell_type": "code",
   "execution_count": null,
   "id": "0b3c4949-9984-4e0e-94db-5ca13fb46674",
   "metadata": {
    "id": "0b3c4949-9984-4e0e-94db-5ca13fb46674",
    "outputId": "a4e0ba2b-1d31-4d10-aee2-b1ba525ffa2c"
   },
   "outputs": [
    {
     "data": {
      "text/plain": [
       "RandomForestClassifier(random_state=0)"
      ]
     },
     "execution_count": 14,
     "metadata": {},
     "output_type": "execute_result"
    },
    {
     "data": {
      "text/plain": [
       "mkt_carrier_fl_num       0.228920\n",
       "crs_elapsed_time         0.202060\n",
       "distance                 0.153961\n",
       "month                    0.125429\n",
       "day_of_week              0.104627\n",
       "tail_num                 0.036524\n",
       "dest                     0.025939\n",
       "dest_city                0.025735\n",
       "year                     0.020199\n",
       "origin                   0.019559\n",
       "origin_city              0.019387\n",
       "mkt_unique_carrier_DL    0.003031\n",
       "op_unique_carrier_OO     0.002791\n",
       "mkt_unique_carrier_AA    0.002102\n",
       "mkt_unique_carrier_UA    0.002064\n",
       "op_unique_carrier_YX     0.001973\n",
       "op_unique_carrier_DL     0.001837\n",
       "op_unique_carrier_AA     0.001472\n",
       "op_unique_carrier_UA     0.001391\n",
       "mkt_unique_carrier_WN    0.001356\n",
       "op_unique_carrier_WN     0.001356\n",
       "mkt_unique_carrier_AS    0.001326\n",
       "op_unique_carrier_MQ     0.001318\n",
       "op_unique_carrier_EV     0.001275\n",
       "op_unique_carrier_YV     0.001142\n",
       "op_unique_carrier_OH     0.001065\n",
       "op_unique_carrier_AS     0.000901\n",
       "op_unique_carrier_G7     0.000884\n",
       "op_unique_carrier_9E     0.000873\n",
       "op_unique_carrier_ZW     0.000831\n",
       "op_unique_carrier_CP     0.000760\n",
       "op_unique_carrier_B6     0.000740\n",
       "op_unique_carrier_AX     0.000734\n",
       "mkt_unique_carrier_B6    0.000722\n",
       "op_unique_carrier_QX     0.000697\n",
       "mkt_unique_carrier_NK    0.000659\n",
       "op_unique_carrier_PT     0.000655\n",
       "op_unique_carrier_NK     0.000651\n",
       "op_unique_carrier_C5     0.000599\n",
       "mkt_unique_carrier_F9    0.000522\n",
       "op_unique_carrier_F9     0.000498\n",
       "mkt_unique_carrier_G4    0.000388\n",
       "op_unique_carrier_G4     0.000378\n",
       "mkt_unique_carrier_HA    0.000224\n",
       "op_unique_carrier_HA     0.000216\n",
       "op_unique_carrier_VX     0.000077\n",
       "mkt_unique_carrier_VX    0.000067\n",
       "op_unique_carrier_EM     0.000049\n",
       "op_unique_carrier_KS     0.000030\n",
       "op_unique_carrier_9K     0.000010\n",
       "flights                  0.000000\n",
       "dtype: float64"
      ]
     },
     "execution_count": 14,
     "metadata": {},
     "output_type": "execute_result"
    },
    {
     "data": {
      "text/plain": [
       "<Figure size 1200x960 with 0 Axes>"
      ]
     },
     "execution_count": 14,
     "metadata": {},
     "output_type": "execute_result"
    },
    {
     "data": {
      "text/plain": [
       "<AxesSubplot:>"
      ]
     },
     "execution_count": 14,
     "metadata": {},
     "output_type": "execute_result"
    },
    {
     "data": {
      "text/plain": [
       "Text(0.5, 0, 'Feature Importance Score')"
      ]
     },
     "execution_count": 14,
     "metadata": {},
     "output_type": "execute_result"
    },
    {
     "data": {
      "text/plain": [
       "Text(0, 0.5, 'Features')"
      ]
     },
     "execution_count": 14,
     "metadata": {},
     "output_type": "execute_result"
    },
    {
     "data": {
      "text/plain": [
       "Text(0.5, 1.0, 'Visualizing Important Features')"
      ]
     },
     "execution_count": 14,
     "metadata": {},
     "output_type": "execute_result"
    },
    {
     "data": {
      "image/png": "[encoded data removed]",
      "text/plain": [
       "<Figure size 1200x960 with 1 Axes>"
      ]
     },
     "metadata": {
      "needs_background": "light"
     },
     "output_type": "display_data"
    },
    {
     "name": "stdout",
     "output_type": "stream",
     "text": [
      "\n",
      "\n",
      "--- 87.53596067428589 seconds ---\n"
     ]
    }
   ],
   "source": [
    "# start time to measure the time of the program execution\n",
    "start_time = time.time()\n",
    "\n",
    "# Assign X & y\n",
    "X2 = work_df3.iloc[:, :51]\n",
    "y2 = work_df3.iloc[:, 51]\n",
    "\n",
    "# split data into training and testing sets\n",
    "X_train, X_test, y_train, y_test = train_test_split(X2, y2, test_size = 0.20, random_state = 42)\n",
    "\n",
    "# create the classifier with n_estimators = 100\n",
    "clf = RandomForestClassifier(n_estimators=100, random_state=0)\n",
    "\n",
    "# fit the model to the training set\n",
    "clf.fit(X_train, y_train)\n",
    "\n",
    "# view the feature scores\n",
    "feature_scores = pd.Series(clf.feature_importances_, \n",
    "                           index=X_train.columns).sort_values(ascending=False)\n",
    "\n",
    "feature_scores\n",
    "\n",
    "# Creating a seaborn bar plot\n",
    "figure(figsize=(15, 12), dpi=80)\n",
    "sns.barplot(x=feature_scores, y=feature_scores.index)\n",
    "\n",
    "plt.xlabel('Feature Importance Score')\n",
    "plt.ylabel('Features')\n",
    "plt.title(\"Visualizing Important Features\")\n",
    "plt.show()\n",
    "\n",
    "# print the overall program runtime.\n",
    "print(f\"\\n\\n--- {(time.time() - start_time)} seconds ---\")"
   ]
  },
  {
   "cell_type": "code",
   "execution_count": 4,
   "id": "430dd526-207b-43c2-a770-1024eb8e88f0",
   "metadata": {
    "id": "430dd526-207b-43c2-a770-1024eb8e88f0"
   },
   "outputs": [],
   "source": [
    "# Assign X & y\n",
    "X2 = work_df3.iloc[:, :51]\n",
    "y2 = work_df3.iloc[:, 51]\n",
    "\n",
    "# split data into training and testing sets\n",
    "X_train, X_test, y_train, y_test = train_test_split(X2, y2, test_size = 0.20, random_state = 42)"
   ]
  },
  {
   "cell_type": "code",
   "execution_count": 5,
   "id": "ebdb34b0-3426-4acd-93f9-2e08af09b73d",
   "metadata": {
    "colab": {
     "base_uri": "https://localhost:8080/"
    },
    "id": "ebdb34b0-3426-4acd-93f9-2e08af09b73d",
    "outputId": "de49f391-78b5-41a3-b816-e5ce9229389d"
   },
   "outputs": [
    {
     "data": {
      "text/plain": [
       "RandomForestClassifier()"
      ]
     },
     "execution_count": 5,
     "metadata": {},
     "output_type": "execute_result"
    },
    {
     "name": "stdout",
     "output_type": "stream",
     "text": [
      "\n",
      "\n",
      "--- 131.44773626327515 seconds ---\n"
     ]
    }
   ],
   "source": [
    "# start time to measure the time of the program execution\n",
    "start_time = time.time()\n",
    "\n",
    "# Fit Random Forest Model\n",
    "rf = RandomForestClassifier()\n",
    "rf.fit(X_train, y_train)\n",
    "y_pred_rf = rf.predict(X_test)\n",
    "\n",
    "# print the overall program runtime.\n",
    "print(f\"\\n\\n--- {(time.time() - start_time)} seconds ---\")"
   ]
  },
  {
   "cell_type": "code",
   "execution_count": 6,
   "id": "6e6fd5b7-b58a-41e7-b464-826f9eb1ba71",
   "metadata": {
    "colab": {
     "base_uri": "https://localhost:8080/"
    },
    "id": "6e6fd5b7-b58a-41e7-b464-826f9eb1ba71",
    "outputId": "fb0808b0-8ec1-469d-d672-f32d99c80d6f"
   },
   "outputs": [
    {
     "data": {
      "text/plain": [
       "LogisticRegression(random_state=0)"
      ]
     },
     "execution_count": 6,
     "metadata": {},
     "output_type": "execute_result"
    },
    {
     "name": "stdout",
     "output_type": "stream",
     "text": [
      "\n",
      "\n",
      "--- 13.327927112579346 seconds ---\n"
     ]
    }
   ],
   "source": [
    "# start time to measure the time of the program execution\n",
    "start_time = time.time()\n",
    "\n",
    "# Fit Logistic Regression Model\n",
    "lg = LogisticRegression(random_state=0)\n",
    "lg.fit(X_train, y_train)\n",
    "y_pred_lg = lg.predict(X_test)\n",
    "\n",
    "# print the overall program runtime.\n",
    "print(f\"\\n\\n--- {(time.time() - start_time)} seconds ---\")"
   ]
  },
  {
   "cell_type": "code",
   "execution_count": 7,
   "id": "833dedc6-08ce-41fe-aac9-86b703803d9f",
   "metadata": {
    "colab": {
     "base_uri": "https://localhost:8080/"
    },
    "id": "833dedc6-08ce-41fe-aac9-86b703803d9f",
    "outputId": "15b1fa2b-7c55-4947-b009-b682136bf3aa"
   },
   "outputs": [
    {
     "data": {
      "text/plain": [
       "GaussianNB()"
      ]
     },
     "execution_count": 7,
     "metadata": {},
     "output_type": "execute_result"
    },
    {
     "name": "stdout",
     "output_type": "stream",
     "text": [
      "\n",
      "\n",
      "--- 0.6484878063201904 seconds ---\n"
     ]
    }
   ],
   "source": [
    "# start time to measure the time of the program execution\n",
    "start_time = time.time()\n",
    "\n",
    "# Fit Guasian Naive Bays Model\n",
    "gnb = GaussianNB()\n",
    "gnb.fit(X_train, y_train)\n",
    "y_pred_gnb = gnb.predict(X_test)\n",
    "\n",
    "# print the overall program runtime.\n",
    "print(f\"\\n\\n--- {(time.time() - start_time)} seconds ---\")"
   ]
  },
  {
   "cell_type": "code",
   "execution_count": 8,
   "id": "8522213d-27c5-4645-b7f6-423c7f05f336",
   "metadata": {
    "colab": {
     "base_uri": "https://localhost:8080/"
    },
    "id": "8522213d-27c5-4645-b7f6-423c7f05f336",
    "outputId": "fbe9f881-c37d-4719-cac6-a809ec4dd0a6"
   },
   "outputs": [
    {
     "data": {
      "text/plain": [
       "DecisionTreeClassifier()"
      ]
     },
     "execution_count": 8,
     "metadata": {},
     "output_type": "execute_result"
    },
    {
     "name": "stdout",
     "output_type": "stream",
     "text": [
      "\n",
      "\n",
      "--- 8.836459636688232 seconds ---\n"
     ]
    }
   ],
   "source": [
    "# start time to measure the time of the program execution\n",
    "start_time = time.time()\n",
    "\n",
    "# Fit Decision Tree\n",
    "dt = DecisionTreeClassifier()\n",
    "dt.fit(X_train, y_train)\n",
    "y_pred_dt = dt.predict(X_test)\n",
    "\n",
    "# print the overall program runtime.\n",
    "print(f\"\\n\\n--- {(time.time() - start_time)} seconds ---\")"
   ]
  },
  {
   "cell_type": "code",
   "execution_count": 9,
   "id": "19d7fb6d-c16f-4b21-aa5c-e5b9a7b33829",
   "metadata": {
    "colab": {
     "base_uri": "https://localhost:8080/"
    },
    "id": "19d7fb6d-c16f-4b21-aa5c-e5b9a7b33829",
    "outputId": "67166ebf-e7ad-4e24-ab2b-4857fe272b78"
   },
   "outputs": [
    {
     "data": {
      "text/plain": [
       "SGDClassifier()"
      ]
     },
     "execution_count": 9,
     "metadata": {},
     "output_type": "execute_result"
    },
    {
     "name": "stdout",
     "output_type": "stream",
     "text": [
      "\n",
      "\n",
      "--- 110.03159952163696 seconds ---\n"
     ]
    }
   ],
   "source": [
    "# start time to measure the time of the program execution\n",
    "start_time = time.time()\n",
    "\n",
    "# Fit Stochastic Gradient Classifier\n",
    "sgd = SGDClassifier()\n",
    "sgd.fit(X_train, y_train)\n",
    "y_pred_sgd = sgd.predict(X_test)\n",
    "\n",
    "# print the overall program runtime.\n",
    "print(f\"\\n\\n--- {(time.time() - start_time)} seconds ---\")"
   ]
  },
  {
   "cell_type": "code",
   "execution_count": 10,
   "id": "3cf22df9-87a7-47e1-b0a5-e79c8aac9b05",
   "metadata": {
    "colab": {
     "base_uri": "https://localhost:8080/"
    },
    "id": "3cf22df9-87a7-47e1-b0a5-e79c8aac9b05",
    "outputId": "dde6ea27-9fb6-4e3a-ea16-19d04e2a1d35"
   },
   "outputs": [
    {
     "data": {
      "text/plain": [
       "XGBClassifier()"
      ]
     },
     "execution_count": 10,
     "metadata": {},
     "output_type": "execute_result"
    },
    {
     "name": "stdout",
     "output_type": "stream",
     "text": [
      "\n",
      "\n",
      "--- 70.33800220489502 seconds ---\n"
     ]
    }
   ],
   "source": [
    "# start time to measure the time of the program execution\n",
    "start_time = time.time()\n",
    "\n",
    "# Fit XGBoost Classifier\n",
    "xgb = XGBClassifier()\n",
    "xgb.fit(X_train, y_train)\n",
    "y_pred_xgb = xgb.predict(X_test)\n",
    "\n",
    "# print the overall program runtime.\n",
    "print(f\"\\n\\n--- {(time.time() - start_time)} seconds ---\")"
   ]
  },
  {
   "cell_type": "code",
   "execution_count": 13,
   "id": "6659173f-9704-4a61-9506-9a51875d6690",
   "metadata": {
    "id": "6659173f-9704-4a61-9506-9a51875d6690"
   },
   "outputs": [],
   "source": [
    "# function for performance metrics - scores\n",
    "def classification_metrics(y_test, y_pred_rf, y_pred_lg, y_pred_gnb, \n",
    "                           y_pred_dt, y_pred_sgd, y_pred_xgb):\n",
    "    \n",
    "  rf_accuracy = accuracy_score(y_test, y_pred_rf)\n",
    "  rf_f1 = f1_score(y_test, y_pred_rf, average='micro')\n",
    "  rf_precision = precision_score(y_test, y_pred_rf, average='micro')\n",
    "  rf_recall = recall_score(y_test, y_pred_rf, average='micro')\n",
    "\n",
    "  lg_accuracy = accuracy_score(y_test, y_pred_lg)\n",
    "  lg_f1 = f1_score(y_test, y_pred_lg, average='micro')\n",
    "  lg_precision = precision_score(y_test, y_pred_lg, average='micro')\n",
    "  lg_recall = recall_score(y_test, y_pred_lg, average='micro')\n",
    "\n",
    "  gnb_accuracy = accuracy_score(y_test, y_pred_gnb)\n",
    "  gnb_f1 = f1_score(y_test, y_pred_gnb, average='micro')\n",
    "  gnb_precision = precision_score(y_test, y_pred_gnb, average='micro')\n",
    "  gnb_recall = recall_score(y_test, y_pred_gnb, average='micro')\n",
    "\n",
    "  dt_accuracy = accuracy_score(y_test, y_pred_dt)\n",
    "  dt_f1 = f1_score(y_test, y_pred_dt, average='micro')\n",
    "  dt_precision = precision_score(y_test, y_pred_dt, average='micro')\n",
    "  dt_recall = recall_score(y_test, y_pred_dt, average='micro')\n",
    "\n",
    "  sgd_accuracy = accuracy_score(y_test, y_pred_sgd)\n",
    "  sgd_f1 = f1_score(y_test, y_pred_sgd, average='micro')\n",
    "  sgd_precision = precision_score(y_test, y_pred_sgd, average='micro')\n",
    "  sgd_recall = recall_score(y_test, y_pred_sgd, average='micro')\n",
    "\n",
    "  xgb_accuracy = accuracy_score(y_test, y_pred_xgb)\n",
    "  xgb_f1 = f1_score(y_test, y_pred_xgb, average='micro')\n",
    "  xgb_precision = precision_score(y_test, y_pred_xgb, average='micro')\n",
    "  xgb_recall = recall_score(y_test, y_pred_xgb, average='micro')\n",
    "\n",
    "  df_cl_metrics = pd.DataFrame({'RF': [rf_accuracy, rf_f1, rf_precision, rf_recall],\n",
    "                                'LogisticR': [lg_accuracy, lg_f1, lg_precision, lg_recall],\n",
    "                                'GNB': [gnb_accuracy, gnb_f1, gnb_precision, gnb_recall],\n",
    "                                'DecisionT': [dt_accuracy, dt_f1, dt_precision, dt_recall],\n",
    "                                'SGD': [sgd_accuracy, sgd_f1, sgd_precision, sgd_recall],\n",
    "                                'XGB': [xgb_accuracy, xgb_f1, xgb_precision, xgb_recall]\n",
    "                                }, index=['accuracy', 'f1_score', 'precision', 'recall'])\n",
    "\n",
    "  return df_cl_metrics"
   ]
  },
  {
   "cell_type": "code",
   "execution_count": 14,
   "id": "1YjbwgGi32eP",
   "metadata": {
    "colab": {
     "base_uri": "https://localhost:8080/",
     "height": 231
    },
    "id": "1YjbwgGi32eP",
    "outputId": "a47ea457-6189-4321-b332-adcfe29ce16c"
   },
   "outputs": [
    {
     "data": {
      "text/html": [
       "\n",
       "  <div id=\"df-6c122109-1f29-4dff-8351-50ff111cf5f4\">\n",
       "    <div class=\"colab-df-container\">\n",
       "      <div>\n",
       "<style scoped>\n",
       "    .dataframe tbody tr th:only-of-type {\n",
       "        vertical-align: middle;\n",
       "    }\n",
       "\n",
       "    .dataframe tbody tr th {\n",
       "        vertical-align: top;\n",
       "    }\n",
       "\n",
       "    .dataframe thead th {\n",
       "        text-align: right;\n",
       "    }\n",
       "</style>\n",
       "<table border=\"1\" class=\"dataframe\">\n",
       "  <thead>\n",
       "    <tr style=\"text-align: right;\">\n",
       "      <th></th>\n",
       "      <th>RF</th>\n",
       "      <th>LogisticR</th>\n",
       "      <th>GNB</th>\n",
       "      <th>DecisionT</th>\n",
       "      <th>SGD</th>\n",
       "      <th>XGB</th>\n",
       "    </tr>\n",
       "  </thead>\n",
       "  <tbody>\n",
       "    <tr>\n",
       "      <th>accuracy</th>\n",
       "      <td>0.558197</td>\n",
       "      <td>0.536159</td>\n",
       "      <td>0.525279</td>\n",
       "      <td>0.531483</td>\n",
       "      <td>0.518778</td>\n",
       "      <td>0.558985</td>\n",
       "    </tr>\n",
       "    <tr>\n",
       "      <th>f1_score</th>\n",
       "      <td>0.558197</td>\n",
       "      <td>0.536159</td>\n",
       "      <td>0.525279</td>\n",
       "      <td>0.531483</td>\n",
       "      <td>0.518778</td>\n",
       "      <td>0.558985</td>\n",
       "    </tr>\n",
       "    <tr>\n",
       "      <th>precision</th>\n",
       "      <td>0.558197</td>\n",
       "      <td>0.536159</td>\n",
       "      <td>0.525279</td>\n",
       "      <td>0.531483</td>\n",
       "      <td>0.518778</td>\n",
       "      <td>0.558985</td>\n",
       "    </tr>\n",
       "    <tr>\n",
       "      <th>recall</th>\n",
       "      <td>0.558197</td>\n",
       "      <td>0.536159</td>\n",
       "      <td>0.525279</td>\n",
       "      <td>0.531483</td>\n",
       "      <td>0.518778</td>\n",
       "      <td>0.558985</td>\n",
       "    </tr>\n",
       "  </tbody>\n",
       "</table>\n",
       "</div>\n",
       "      <button class=\"colab-df-convert\" onclick=\"convertToInteractive('df-6c122109-1f29-4dff-8351-50ff111cf5f4')\"\n",
       "              title=\"Convert this dataframe to an interactive table.\"\n",
       "              style=\"display:none;\">\n",
       "        \n",
       "  <svg xmlns=\"http://www.w3.org/2000/svg\" height=\"24px\"viewBox=\"0 0 24 24\"\n",
       "       width=\"24px\">\n",
       "    <path d=\"M0 0h24v24H0V0z\" fill=\"none\"/>\n",
       "    <path d=\"M18.56 5.44l.94 2.06.94-2.06 2.06-.94-2.06-.94-.94-2.06-.94 2.06-2.06.94zm-11 1L8.5 8.5l.94-2.06 2.06-.94-2.06-.94L8.5 2.5l-.94 2.06-2.06.94zm10 10l.94 2.06.94-2.06 2.06-.94-2.06-.94-.94-2.06-.94 2.06-2.06.94z\"/><path d=\"M17.41 7.96l-1.37-1.37c-.4-.4-.92-.59-1.43-.59-.52 0-1.04.2-1.43.59L10.3 9.45l-7.72 7.72c-.78.78-.78 2.05 0 2.83L4 21.41c.39.39.9.59 1.41.59.51 0 1.02-.2 1.41-.59l7.78-7.78 2.81-2.81c.8-.78.8-2.07 0-2.86zM5.41 20L4 18.59l7.72-7.72 1.47 1.35L5.41 20z\"/>\n",
       "  </svg>\n",
       "      </button>\n",
       "      \n",
       "  <style>\n",
       "    .colab-df-container {\n",
       "      display:flex;\n",
       "      flex-wrap:wrap;\n",
       "      gap: 12px;\n",
       "    }\n",
       "\n",
       "    .colab-df-convert {\n",
       "      background-color: #E8F0FE;\n",
       "      border: none;\n",
       "      border-radius: 50%;\n",
       "      cursor: pointer;\n",
       "      display: none;\n",
       "      fill: #1967D2;\n",
       "      height: 32px;\n",
       "      padding: 0 0 0 0;\n",
       "      width: 32px;\n",
       "    }\n",
       "\n",
       "    .colab-df-convert:hover {\n",
       "      background-color: #E2EBFA;\n",
       "      box-shadow: 0px 1px 2px rgba(60, 64, 67, 0.3), 0px 1px 3px 1px rgba(60, 64, 67, 0.15);\n",
       "      fill: #174EA6;\n",
       "    }\n",
       "\n",
       "    [theme=dark] .colab-df-convert {\n",
       "      background-color: #3B4455;\n",
       "      fill: #D2E3FC;\n",
       "    }\n",
       "\n",
       "    [theme=dark] .colab-df-convert:hover {\n",
       "      background-color: #434B5C;\n",
       "      box-shadow: 0px 1px 3px 1px rgba(0, 0, 0, 0.15);\n",
       "      filter: drop-shadow(0px 1px 2px rgba(0, 0, 0, 0.3));\n",
       "      fill: #FFFFFF;\n",
       "    }\n",
       "  </style>\n",
       "\n",
       "      <script>\n",
       "        const buttonEl =\n",
       "          document.querySelector('#df-6c122109-1f29-4dff-8351-50ff111cf5f4 button.colab-df-convert');\n",
       "        buttonEl.style.display =\n",
       "          google.colab.kernel.accessAllowed ? 'block' : 'none';\n",
       "\n",
       "        async function convertToInteractive(key) {\n",
       "          const element = document.querySelector('#df-6c122109-1f29-4dff-8351-50ff111cf5f4');\n",
       "          const dataTable =\n",
       "            await google.colab.kernel.invokeFunction('convertToInteractive',\n",
       "                                                     [key], {});\n",
       "          if (!dataTable) return;\n",
       "\n",
       "          const docLinkHtml = 'Like what you see? Visit the ' +\n",
       "            '<a target=\"_blank\" href=https://colab.research.google.com/notebooks/data_table.ipynb>data table notebook</a>'\n",
       "            + ' to learn more about interactive tables.';\n",
       "          element.innerHTML = '';\n",
       "          dataTable['output_type'] = 'display_data';\n",
       "          await google.colab.output.renderOutput(dataTable, element);\n",
       "          const docLink = document.createElement('div');\n",
       "          docLink.innerHTML = docLinkHtml;\n",
       "          element.appendChild(docLink);\n",
       "        }\n",
       "      </script>\n",
       "    </div>\n",
       "  </div>\n",
       "  "
      ],
      "text/plain": [
       "                 RF  LogisticR       GNB  DecisionT       SGD       XGB\n",
       "accuracy   0.558197   0.536159  0.525279   0.531483  0.518778  0.558985\n",
       "f1_score   0.558197   0.536159  0.525279   0.531483  0.518778  0.558985\n",
       "precision  0.558197   0.536159  0.525279   0.531483  0.518778  0.558985\n",
       "recall     0.558197   0.536159  0.525279   0.531483  0.518778  0.558985"
      ]
     },
     "execution_count": 14,
     "metadata": {},
     "output_type": "execute_result"
    },
    {
     "name": "stdout",
     "output_type": "stream",
     "text": [
      "\n",
      "\n",
      "--- 1.548966646194458 seconds ---\n"
     ]
    }
   ],
   "source": [
    "# start time to measure the time of the program execution\n",
    "start_time = time.time()\n",
    "\n",
    "classification_metrics(y_test, y_pred_rf, y_pred_lg, y_pred_gnb, \n",
    "                           y_pred_dt, y_pred_sgd, y_pred_xgb)\n",
    "\n",
    "# print the overall program runtime.\n",
    "print(f\"\\n\\n--- {(time.time() - start_time)} seconds ---\")"
   ]
  },
  {
   "cell_type": "markdown",
   "id": "fec2cc2c-bd9d-4745-8739-4ec76b643d60",
   "metadata": {
    "id": "cce6f3cc-e8e3-4151-ac9c-4b9593fe43a7"
   },
   "source": [
    "#### __RFE and Random Forest Feature Importance Run with Feature Selection__"
   ]
  },
  {
   "cell_type": "code",
   "execution_count": 3,
   "id": "ZtZ97TuvE-bu",
   "metadata": {
    "colab": {
     "base_uri": "https://localhost:8080/",
     "height": 1000
    },
    "id": "ZtZ97TuvE-bu",
    "outputId": "8bed35c9-ebcd-480b-ff1e-c75b3efbf5ca"
   },
   "outputs": [
    {
     "name": "stdout",
     "output_type": "stream",
     "text": [
      "<class 'pandas.core.frame.DataFrame'>\n",
      "RangeIndex: 520681 entries, 0 to 520680\n",
      "Data columns (total 46 columns):\n",
      " #   Column                 Non-Null Count   Dtype  \n",
      "---  ------                 --------------   -----  \n",
      " 0   year                   520681 non-null  int64  \n",
      " 1   month                  520681 non-null  int64  \n",
      " 2   day_of_week            520681 non-null  int64  \n",
      " 3   mkt_carrier_fl_num     520681 non-null  float64\n",
      " 4   tail_num               520681 non-null  int64  \n",
      " 5   origin                 520681 non-null  int64  \n",
      " 6   origin_city            520681 non-null  int64  \n",
      " 7   dest                   520681 non-null  int64  \n",
      " 8   dest_city              520681 non-null  int64  \n",
      " 9   crs_elapsed_time       520681 non-null  float64\n",
      " 10  distance               520681 non-null  float64\n",
      " 11  mkt_unique_carrier_AA  520681 non-null  int64  \n",
      " 12  mkt_unique_carrier_AS  520681 non-null  int64  \n",
      " 13  mkt_unique_carrier_B6  520681 non-null  int64  \n",
      " 14  mkt_unique_carrier_DL  520681 non-null  int64  \n",
      " 15  mkt_unique_carrier_F9  520681 non-null  int64  \n",
      " 16  mkt_unique_carrier_G4  520681 non-null  int64  \n",
      " 17  mkt_unique_carrier_NK  520681 non-null  int64  \n",
      " 18  mkt_unique_carrier_UA  520681 non-null  int64  \n",
      " 19  mkt_unique_carrier_VX  520681 non-null  int64  \n",
      " 20  mkt_unique_carrier_WN  520681 non-null  int64  \n",
      " 21  op_unique_carrier_9E   520681 non-null  int64  \n",
      " 22  op_unique_carrier_AA   520681 non-null  int64  \n",
      " 23  op_unique_carrier_AS   520681 non-null  int64  \n",
      " 24  op_unique_carrier_AX   520681 non-null  int64  \n",
      " 25  op_unique_carrier_B6   520681 non-null  int64  \n",
      " 26  op_unique_carrier_C5   520681 non-null  int64  \n",
      " 27  op_unique_carrier_CP   520681 non-null  int64  \n",
      " 28  op_unique_carrier_DL   520681 non-null  int64  \n",
      " 29  op_unique_carrier_EM   520681 non-null  int64  \n",
      " 30  op_unique_carrier_EV   520681 non-null  int64  \n",
      " 31  op_unique_carrier_F9   520681 non-null  int64  \n",
      " 32  op_unique_carrier_G7   520681 non-null  int64  \n",
      " 33  op_unique_carrier_HA   520681 non-null  int64  \n",
      " 34  op_unique_carrier_KS   520681 non-null  int64  \n",
      " 35  op_unique_carrier_MQ   520681 non-null  int64  \n",
      " 36  op_unique_carrier_NK   520681 non-null  int64  \n",
      " 37  op_unique_carrier_OH   520681 non-null  int64  \n",
      " 38  op_unique_carrier_OO   520681 non-null  int64  \n",
      " 39  op_unique_carrier_QX   520681 non-null  int64  \n",
      " 40  op_unique_carrier_UA   520681 non-null  int64  \n",
      " 41  op_unique_carrier_VX   520681 non-null  int64  \n",
      " 42  op_unique_carrier_WN   520681 non-null  int64  \n",
      " 43  op_unique_carrier_YX   520681 non-null  int64  \n",
      " 44  op_unique_carrier_ZW   520681 non-null  int64  \n",
      " 45  target_class           520681 non-null  int64  \n",
      "dtypes: float64(3), int64(43)\n",
      "memory usage: 182.7 MB\n"
     ]
    },
    {
     "data": {
      "text/html": [
       "<div>\n",
       "<style scoped>\n",
       "    .dataframe tbody tr th:only-of-type {\n",
       "        vertical-align: middle;\n",
       "    }\n",
       "\n",
       "    .dataframe tbody tr th {\n",
       "        vertical-align: top;\n",
       "    }\n",
       "\n",
       "    .dataframe thead th {\n",
       "        text-align: right;\n",
       "    }\n",
       "</style>\n",
       "<table border=\"1\" class=\"dataframe\">\n",
       "  <thead>\n",
       "    <tr style=\"text-align: right;\">\n",
       "      <th></th>\n",
       "      <th>year</th>\n",
       "      <th>month</th>\n",
       "      <th>day_of_week</th>\n",
       "      <th>mkt_carrier_fl_num</th>\n",
       "      <th>tail_num</th>\n",
       "      <th>origin</th>\n",
       "      <th>origin_city</th>\n",
       "      <th>dest</th>\n",
       "      <th>dest_city</th>\n",
       "      <th>crs_elapsed_time</th>\n",
       "      <th>...</th>\n",
       "      <th>op_unique_carrier_NK</th>\n",
       "      <th>op_unique_carrier_OH</th>\n",
       "      <th>op_unique_carrier_OO</th>\n",
       "      <th>op_unique_carrier_QX</th>\n",
       "      <th>op_unique_carrier_UA</th>\n",
       "      <th>op_unique_carrier_VX</th>\n",
       "      <th>op_unique_carrier_WN</th>\n",
       "      <th>op_unique_carrier_YX</th>\n",
       "      <th>op_unique_carrier_ZW</th>\n",
       "      <th>target_class</th>\n",
       "    </tr>\n",
       "  </thead>\n",
       "  <tbody>\n",
       "    <tr>\n",
       "      <th>0</th>\n",
       "      <td>2019</td>\n",
       "      <td>5</td>\n",
       "      <td>2</td>\n",
       "      <td>1.007068</td>\n",
       "      <td>3</td>\n",
       "      <td>2</td>\n",
       "      <td>2</td>\n",
       "      <td>4</td>\n",
       "      <td>5</td>\n",
       "      <td>0.425950</td>\n",
       "      <td>...</td>\n",
       "      <td>0</td>\n",
       "      <td>0</td>\n",
       "      <td>0</td>\n",
       "      <td>0</td>\n",
       "      <td>0</td>\n",
       "      <td>0</td>\n",
       "      <td>0</td>\n",
       "      <td>1</td>\n",
       "      <td>0</td>\n",
       "      <td>1</td>\n",
       "    </tr>\n",
       "    <tr>\n",
       "      <th>1</th>\n",
       "      <td>2019</td>\n",
       "      <td>5</td>\n",
       "      <td>2</td>\n",
       "      <td>1.036667</td>\n",
       "      <td>3</td>\n",
       "      <td>1</td>\n",
       "      <td>1</td>\n",
       "      <td>5</td>\n",
       "      <td>5</td>\n",
       "      <td>0.077483</td>\n",
       "      <td>...</td>\n",
       "      <td>0</td>\n",
       "      <td>0</td>\n",
       "      <td>0</td>\n",
       "      <td>0</td>\n",
       "      <td>0</td>\n",
       "      <td>0</td>\n",
       "      <td>0</td>\n",
       "      <td>1</td>\n",
       "      <td>0</td>\n",
       "      <td>1</td>\n",
       "    </tr>\n",
       "    <tr>\n",
       "      <th>2</th>\n",
       "      <td>2019</td>\n",
       "      <td>5</td>\n",
       "      <td>2</td>\n",
       "      <td>-1.447481</td>\n",
       "      <td>2</td>\n",
       "      <td>5</td>\n",
       "      <td>5</td>\n",
       "      <td>5</td>\n",
       "      <td>5</td>\n",
       "      <td>-0.061903</td>\n",
       "      <td>...</td>\n",
       "      <td>0</td>\n",
       "      <td>0</td>\n",
       "      <td>0</td>\n",
       "      <td>0</td>\n",
       "      <td>0</td>\n",
       "      <td>0</td>\n",
       "      <td>0</td>\n",
       "      <td>0</td>\n",
       "      <td>0</td>\n",
       "      <td>1</td>\n",
       "    </tr>\n",
       "  </tbody>\n",
       "</table>\n",
       "<p>3 rows × 46 columns</p>\n",
       "</div>"
      ],
      "text/plain": [
       "   year  month  day_of_week  mkt_carrier_fl_num  tail_num  origin  \\\n",
       "0  2019      5            2            1.007068         3       2   \n",
       "1  2019      5            2            1.036667         3       1   \n",
       "2  2019      5            2           -1.447481         2       5   \n",
       "\n",
       "   origin_city  dest  dest_city  crs_elapsed_time  ...  op_unique_carrier_NK  \\\n",
       "0            2     4          5          0.425950  ...                     0   \n",
       "1            1     5          5          0.077483  ...                     0   \n",
       "2            5     5          5         -0.061903  ...                     0   \n",
       "\n",
       "   op_unique_carrier_OH  op_unique_carrier_OO  op_unique_carrier_QX  \\\n",
       "0                     0                     0                     0   \n",
       "1                     0                     0                     0   \n",
       "2                     0                     0                     0   \n",
       "\n",
       "   op_unique_carrier_UA  op_unique_carrier_VX  op_unique_carrier_WN  \\\n",
       "0                     0                     0                     0   \n",
       "1                     0                     0                     0   \n",
       "2                     0                     0                     0   \n",
       "\n",
       "   op_unique_carrier_YX  op_unique_carrier_ZW  target_class  \n",
       "0                     1                     0             1  \n",
       "1                     1                     0             1  \n",
       "2                     0                     0             1  \n",
       "\n",
       "[3 rows x 46 columns]"
      ]
     },
     "execution_count": 3,
     "metadata": {},
     "output_type": "execute_result"
    }
   ],
   "source": [
    "remove_lower_features = ['flights', 'mkt_unique_carrier_HA', 'op_unique_carrier_9K',\n",
    "                         'op_unique_carrier_G4','op_unique_carrier_PT','op_unique_carrier_YV']\n",
    "\n",
    "work_df3_1 = work_df3.drop(remove_lower_features, axis=1)\n",
    "\n",
    "# check\n",
    "work_df3_1.info()\n",
    "work_df3_1.head(3)"
   ]
  },
  {
   "cell_type": "code",
   "execution_count": 4,
   "id": "ucUgIG8LE-tc",
   "metadata": {
    "id": "ucUgIG8LE-tc"
   },
   "outputs": [],
   "source": [
    "# Assign X & y\n",
    "X2_1 = work_df3_1.iloc[:, :45]\n",
    "y2_1 = work_df3_1.iloc[:, 45]\n",
    "\n",
    "# split data into training and testing sets\n",
    "X_train3, X_test3, y_train3, y_test3 = train_test_split(X2_1, y2_1, test_size = 0.20, random_state = 42)"
   ]
  },
  {
   "cell_type": "code",
   "execution_count": 6,
   "id": "hylvHrFhE-6i",
   "metadata": {
    "colab": {
     "base_uri": "https://localhost:8080/"
    },
    "id": "hylvHrFhE-6i",
    "outputId": "055966d5-afa0-4620-96b6-b38fb55207c2"
   },
   "outputs": [
    {
     "data": {
      "text/plain": [
       "RandomForestClassifier()"
      ]
     },
     "execution_count": 6,
     "metadata": {},
     "output_type": "execute_result"
    },
    {
     "name": "stdout",
     "output_type": "stream",
     "text": [
      "\n",
      "\n",
      "--- 183.69111156463623 seconds ---\n"
     ]
    }
   ],
   "source": [
    "# start time to measure the time of the program execution\n",
    "start_time = time.time()\n",
    "\n",
    "# Fit Random Forest Model\n",
    "rf3 = RandomForestClassifier()\n",
    "rf3.fit(X_train3, y_train3)\n",
    "y_pred_rf3 = rf3.predict(X_test3)\n",
    "\n",
    "# print the overall program runtime.\n",
    "print(f\"\\n\\n--- {(time.time() - start_time)} seconds ---\")"
   ]
  },
  {
   "cell_type": "code",
   "execution_count": 7,
   "id": "0bF-pxIJJlrn",
   "metadata": {
    "id": "0bF-pxIJJlrn"
   },
   "outputs": [
    {
     "data": {
      "text/plain": [
       "LogisticRegression(random_state=0)"
      ]
     },
     "execution_count": 7,
     "metadata": {},
     "output_type": "execute_result"
    },
    {
     "name": "stdout",
     "output_type": "stream",
     "text": [
      "\n",
      "\n",
      "--- 37.622002840042114 seconds ---\n"
     ]
    }
   ],
   "source": [
    "# start time to measure the time of the program execution\n",
    "start_time = time.time()\n",
    "\n",
    "# Fit Logistic Regression Model\n",
    "lg3 = LogisticRegression(random_state=0)\n",
    "lg3.fit(X_train3, y_train3)\n",
    "y_pred_lg3 = lg3.predict(X_test3)\n",
    "\n",
    "# print the overall program runtime.\n",
    "print(f\"\\n\\n--- {(time.time() - start_time)} seconds ---\")"
   ]
  },
  {
   "cell_type": "code",
   "execution_count": 8,
   "id": "Efd1z6dEJlxF",
   "metadata": {
    "id": "Efd1z6dEJlxF"
   },
   "outputs": [
    {
     "data": {
      "text/plain": [
       "GaussianNB()"
      ]
     },
     "execution_count": 8,
     "metadata": {},
     "output_type": "execute_result"
    },
    {
     "name": "stdout",
     "output_type": "stream",
     "text": [
      "\n",
      "\n",
      "--- 0.8630120754241943 seconds ---\n"
     ]
    }
   ],
   "source": [
    "# start time to measure the time of the program execution\n",
    "start_time = time.time()\n",
    "\n",
    "# Fit Guasian Naive Bays Model\n",
    "gnb3 = GaussianNB()\n",
    "gnb3.fit(X_train3, y_train3)\n",
    "y_pred_gnb3 = gnb3.predict(X_test3)\n",
    "\n",
    "# print the overall program runtime.\n",
    "print(f\"\\n\\n--- {(time.time() - start_time)} seconds ---\")"
   ]
  },
  {
   "cell_type": "code",
   "execution_count": 9,
   "id": "LcaBlGFKJl3F",
   "metadata": {
    "id": "LcaBlGFKJl3F"
   },
   "outputs": [
    {
     "data": {
      "text/plain": [
       "DecisionTreeClassifier()"
      ]
     },
     "execution_count": 9,
     "metadata": {},
     "output_type": "execute_result"
    },
    {
     "name": "stdout",
     "output_type": "stream",
     "text": [
      "\n",
      "\n",
      "--- 12.701311588287354 seconds ---\n"
     ]
    }
   ],
   "source": [
    "# start time to measure the time of the program execution\n",
    "start_time = time.time()\n",
    "\n",
    "# Fit Decision Tree\n",
    "dt3 = DecisionTreeClassifier()\n",
    "dt3.fit(X_train3, y_train3)\n",
    "y_pred_dt3 = dt3.predict(X_test3)\n",
    "\n",
    "# print the overall program runtime.\n",
    "print(f\"\\n\\n--- {(time.time() - start_time)} seconds ---\")"
   ]
  },
  {
   "cell_type": "code",
   "execution_count": 10,
   "id": "1KfhcwKkJl8S",
   "metadata": {
    "id": "1KfhcwKkJl8S"
   },
   "outputs": [
    {
     "data": {
      "text/plain": [
       "SGDClassifier()"
      ]
     },
     "execution_count": 10,
     "metadata": {},
     "output_type": "execute_result"
    },
    {
     "name": "stdout",
     "output_type": "stream",
     "text": [
      "\n",
      "\n",
      "--- 91.3164701461792 seconds ---\n"
     ]
    }
   ],
   "source": [
    "# start time to measure the time of the program execution\n",
    "start_time = time.time()\n",
    "\n",
    "# Fit Stochastic Gradient Classifier\n",
    "sgd3 = SGDClassifier()\n",
    "sgd3.fit(X_train3, y_train3)\n",
    "y_pred_sgd3 = sgd3.predict(X_test3)\n",
    "\n",
    "# print the overall program runtime.\n",
    "print(f\"\\n\\n--- {(time.time() - start_time)} seconds ---\")"
   ]
  },
  {
   "cell_type": "code",
   "execution_count": 11,
   "id": "c-ugSsH6JmAx",
   "metadata": {
    "id": "c-ugSsH6JmAx"
   },
   "outputs": [
    {
     "name": "stdout",
     "output_type": "stream",
     "text": [
      "[12:59:01] WARNING: C:/Users/Administrator/workspace/xgboost-win64_release_1.5.1/src/learner.cc:1115: Starting in XGBoost 1.3.0, the default evaluation metric used with the objective 'binary:logistic' was changed from 'error' to 'logloss'. Explicitly set eval_metric if you'd like to restore the old behavior.\n"
     ]
    },
    {
     "data": {
      "text/plain": [
       "XGBClassifier(base_score=0.5, booster='gbtree', colsample_bylevel=1,\n",
       "              colsample_bynode=1, colsample_bytree=1, enable_categorical=False,\n",
       "              gamma=0, gpu_id=-1, importance_type=None,\n",
       "              interaction_constraints='', learning_rate=0.300000012,\n",
       "              max_delta_step=0, max_depth=6, min_child_weight=1, missing=nan,\n",
       "              monotone_constraints='()', n_estimators=100, n_jobs=8,\n",
       "              num_parallel_tree=1, predictor='auto', random_state=0,\n",
       "              reg_alpha=0, reg_lambda=1, scale_pos_weight=1, subsample=1,\n",
       "              tree_method='exact', validate_parameters=1, verbosity=None)"
      ]
     },
     "execution_count": 11,
     "metadata": {},
     "output_type": "execute_result"
    },
    {
     "name": "stdout",
     "output_type": "stream",
     "text": [
      "\n",
      "\n",
      "--- 78.42545056343079 seconds ---\n"
     ]
    }
   ],
   "source": [
    "# start time to measure the time of the program execution\n",
    "start_time = time.time()\n",
    "\n",
    "# Fit XGBoost Classifier\n",
    "xgb3 = XGBClassifier()\n",
    "xgb3.fit(X_train3, y_train3)\n",
    "y_pred_xgb3 = xgb3.predict(X_test3)\n",
    "\n",
    "# print the overall program runtime.\n",
    "print(f\"\\n\\n--- {(time.time() - start_time)} seconds ---\")"
   ]
  },
  {
   "cell_type": "code",
   "execution_count": 14,
   "id": "WNojJhYIJmEh",
   "metadata": {
    "id": "WNojJhYIJmEh"
   },
   "outputs": [
    {
     "data": {
      "text/html": [
       "<div>\n",
       "<style scoped>\n",
       "    .dataframe tbody tr th:only-of-type {\n",
       "        vertical-align: middle;\n",
       "    }\n",
       "\n",
       "    .dataframe tbody tr th {\n",
       "        vertical-align: top;\n",
       "    }\n",
       "\n",
       "    .dataframe thead th {\n",
       "        text-align: right;\n",
       "    }\n",
       "</style>\n",
       "<table border=\"1\" class=\"dataframe\">\n",
       "  <thead>\n",
       "    <tr style=\"text-align: right;\">\n",
       "      <th></th>\n",
       "      <th>RF</th>\n",
       "      <th>LogisticR</th>\n",
       "      <th>GNB</th>\n",
       "      <th>DecisionT</th>\n",
       "      <th>SGD</th>\n",
       "      <th>XGB</th>\n",
       "    </tr>\n",
       "  </thead>\n",
       "  <tbody>\n",
       "    <tr>\n",
       "      <th>accuracy</th>\n",
       "      <td>0.560377</td>\n",
       "      <td>0.536034</td>\n",
       "      <td>0.524482</td>\n",
       "      <td>0.531886</td>\n",
       "      <td>0.521429</td>\n",
       "      <td>0.573648</td>\n",
       "    </tr>\n",
       "    <tr>\n",
       "      <th>f1_score</th>\n",
       "      <td>0.560377</td>\n",
       "      <td>0.536034</td>\n",
       "      <td>0.524482</td>\n",
       "      <td>0.531886</td>\n",
       "      <td>0.521429</td>\n",
       "      <td>0.573648</td>\n",
       "    </tr>\n",
       "    <tr>\n",
       "      <th>precision</th>\n",
       "      <td>0.560377</td>\n",
       "      <td>0.536034</td>\n",
       "      <td>0.524482</td>\n",
       "      <td>0.531886</td>\n",
       "      <td>0.521429</td>\n",
       "      <td>0.573648</td>\n",
       "    </tr>\n",
       "    <tr>\n",
       "      <th>recall</th>\n",
       "      <td>0.560377</td>\n",
       "      <td>0.536034</td>\n",
       "      <td>0.524482</td>\n",
       "      <td>0.531886</td>\n",
       "      <td>0.521429</td>\n",
       "      <td>0.573648</td>\n",
       "    </tr>\n",
       "  </tbody>\n",
       "</table>\n",
       "</div>"
      ],
      "text/plain": [
       "                 RF  LogisticR       GNB  DecisionT       SGD       XGB\n",
       "accuracy   0.560377   0.536034  0.524482   0.531886  0.521429  0.573648\n",
       "f1_score   0.560377   0.536034  0.524482   0.531886  0.521429  0.573648\n",
       "precision  0.560377   0.536034  0.524482   0.531886  0.521429  0.573648\n",
       "recall     0.560377   0.536034  0.524482   0.531886  0.521429  0.573648"
      ]
     },
     "execution_count": 14,
     "metadata": {},
     "output_type": "execute_result"
    },
    {
     "name": "stdout",
     "output_type": "stream",
     "text": [
      "\n",
      "\n",
      "--- 1.2183010578155518 seconds ---\n"
     ]
    }
   ],
   "source": [
    "# start time to measure the time of the program execution\n",
    "start_time = time.time()\n",
    "\n",
    "classification_metrics(y_test3, y_pred_rf3, y_pred_lg3, y_pred_gnb3, \n",
    "                           y_pred_dt3, y_pred_sgd3, y_pred_xgb3)\n",
    "\n",
    "# print the overall program runtime.\n",
    "print(f\"\\n\\n--- {(time.time() - start_time)} seconds ---\")"
   ]
  },
  {
   "cell_type": "code",
   "execution_count": null,
   "id": "ii5VjW18Jmg1",
   "metadata": {
    "id": "ii5VjW18Jmg1"
   },
   "outputs": [],
   "source": []
  },
  {
   "cell_type": "markdown",
   "id": "ddf320e4-804f-4b12-b2d6-17a9ad696af4",
   "metadata": {
    "id": "ddf320e4-804f-4b12-b2d6-17a9ad696af4"
   },
   "source": [
    "#### __Repeat the Feature Selection Processes above on No_Dummary version__"
   ]
  },
  {
   "cell_type": "markdown",
   "id": "NbdWWADqIBNs",
   "metadata": {
    "id": "NbdWWADqIBNs"
   },
   "source": []
  },
  {
   "cell_type": "code",
   "execution_count": 16,
   "id": "Ta1OA_yqx4dj",
   "metadata": {
    "id": "Ta1OA_yqx4dj"
   },
   "outputs": [],
   "source": [
    "scaled_no_dummy = pd.read_csv('scaled_no_dummy_featur_eng.csv')\n"
   ]
  },
  {
   "cell_type": "code",
   "execution_count": 21,
   "id": "ac957e82-c804-466c-bd6d-6f915c5ec089",
   "metadata": {
    "colab": {
     "base_uri": "https://localhost:8080/",
     "height": 619
    },
    "id": "ac957e82-c804-466c-bd6d-6f915c5ec089",
    "outputId": "31c0a3c4-d989-4444-e0df-a856fea25efc"
   },
   "outputs": [
    {
     "name": "stdout",
     "output_type": "stream",
     "text": [
      "<class 'pandas.core.frame.DataFrame'>\n",
      "RangeIndex: 520681 entries, 0 to 520680\n",
      "Data columns (total 15 columns):\n",
      " #   Column              Non-Null Count   Dtype  \n",
      "---  ------              --------------   -----  \n",
      " 0   year                520681 non-null  int64  \n",
      " 1   month               520681 non-null  int64  \n",
      " 2   day_of_week         520681 non-null  int64  \n",
      " 3   mkt_unique_carrier  520681 non-null  int64  \n",
      " 4   mkt_carrier_fl_num  520681 non-null  float64\n",
      " 5   op_unique_carrier   520681 non-null  int64  \n",
      " 6   tail_num            520681 non-null  int64  \n",
      " 7   origin              520681 non-null  int64  \n",
      " 8   origin_city         520681 non-null  int64  \n",
      " 9   dest                520681 non-null  int64  \n",
      " 10  dest_city           520681 non-null  int64  \n",
      " 11  crs_elapsed_time    520681 non-null  float64\n",
      " 12  flights             520681 non-null  float64\n",
      " 13  distance            520681 non-null  float64\n",
      " 14  target_class        520681 non-null  int64  \n",
      "dtypes: float64(4), int64(11)\n",
      "memory usage: 59.6 MB\n"
     ]
    },
    {
     "data": {
      "text/html": [
       "\n",
       "  <div id=\"df-5cc95c08-2ca2-4dbc-bcd4-e86c620d15c3\">\n",
       "    <div class=\"colab-df-container\">\n",
       "      <div>\n",
       "<style scoped>\n",
       "    .dataframe tbody tr th:only-of-type {\n",
       "        vertical-align: middle;\n",
       "    }\n",
       "\n",
       "    .dataframe tbody tr th {\n",
       "        vertical-align: top;\n",
       "    }\n",
       "\n",
       "    .dataframe thead th {\n",
       "        text-align: right;\n",
       "    }\n",
       "</style>\n",
       "<table border=\"1\" class=\"dataframe\">\n",
       "  <thead>\n",
       "    <tr style=\"text-align: right;\">\n",
       "      <th></th>\n",
       "      <th>year</th>\n",
       "      <th>month</th>\n",
       "      <th>day_of_week</th>\n",
       "      <th>mkt_unique_carrier</th>\n",
       "      <th>mkt_carrier_fl_num</th>\n",
       "      <th>op_unique_carrier</th>\n",
       "      <th>tail_num</th>\n",
       "      <th>origin</th>\n",
       "      <th>origin_city</th>\n",
       "      <th>dest</th>\n",
       "      <th>dest_city</th>\n",
       "      <th>crs_elapsed_time</th>\n",
       "      <th>flights</th>\n",
       "      <th>distance</th>\n",
       "      <th>target_class</th>\n",
       "    </tr>\n",
       "  </thead>\n",
       "  <tbody>\n",
       "    <tr>\n",
       "      <th>0</th>\n",
       "      <td>2019</td>\n",
       "      <td>5</td>\n",
       "      <td>2</td>\n",
       "      <td>3</td>\n",
       "      <td>1.007068</td>\n",
       "      <td>3</td>\n",
       "      <td>3</td>\n",
       "      <td>2</td>\n",
       "      <td>2</td>\n",
       "      <td>4</td>\n",
       "      <td>5</td>\n",
       "      <td>0.425950</td>\n",
       "      <td>1.0</td>\n",
       "      <td>0.655085</td>\n",
       "      <td>1</td>\n",
       "    </tr>\n",
       "    <tr>\n",
       "      <th>1</th>\n",
       "      <td>2019</td>\n",
       "      <td>5</td>\n",
       "      <td>2</td>\n",
       "      <td>3</td>\n",
       "      <td>1.036667</td>\n",
       "      <td>3</td>\n",
       "      <td>3</td>\n",
       "      <td>1</td>\n",
       "      <td>1</td>\n",
       "      <td>5</td>\n",
       "      <td>5</td>\n",
       "      <td>0.077483</td>\n",
       "      <td>1.0</td>\n",
       "      <td>-0.063268</td>\n",
       "      <td>1</td>\n",
       "    </tr>\n",
       "    <tr>\n",
       "      <th>2</th>\n",
       "      <td>2019</td>\n",
       "      <td>5</td>\n",
       "      <td>2</td>\n",
       "      <td>3</td>\n",
       "      <td>-1.447481</td>\n",
       "      <td>4</td>\n",
       "      <td>2</td>\n",
       "      <td>5</td>\n",
       "      <td>5</td>\n",
       "      <td>5</td>\n",
       "      <td>5</td>\n",
       "      <td>-0.061903</td>\n",
       "      <td>1.0</td>\n",
       "      <td>-0.071780</td>\n",
       "      <td>1</td>\n",
       "    </tr>\n",
       "  </tbody>\n",
       "</table>\n",
       "</div>\n",
       "      <button class=\"colab-df-convert\" onclick=\"convertToInteractive('df-5cc95c08-2ca2-4dbc-bcd4-e86c620d15c3')\"\n",
       "              title=\"Convert this dataframe to an interactive table.\"\n",
       "              style=\"display:none;\">\n",
       "        \n",
       "  <svg xmlns=\"http://www.w3.org/2000/svg\" height=\"24px\"viewBox=\"0 0 24 24\"\n",
       "       width=\"24px\">\n",
       "    <path d=\"M0 0h24v24H0V0z\" fill=\"none\"/>\n",
       "    <path d=\"M18.56 5.44l.94 2.06.94-2.06 2.06-.94-2.06-.94-.94-2.06-.94 2.06-2.06.94zm-11 1L8.5 8.5l.94-2.06 2.06-.94-2.06-.94L8.5 2.5l-.94 2.06-2.06.94zm10 10l.94 2.06.94-2.06 2.06-.94-2.06-.94-.94-2.06-.94 2.06-2.06.94z\"/><path d=\"M17.41 7.96l-1.37-1.37c-.4-.4-.92-.59-1.43-.59-.52 0-1.04.2-1.43.59L10.3 9.45l-7.72 7.72c-.78.78-.78 2.05 0 2.83L4 21.41c.39.39.9.59 1.41.59.51 0 1.02-.2 1.41-.59l7.78-7.78 2.81-2.81c.8-.78.8-2.07 0-2.86zM5.41 20L4 18.59l7.72-7.72 1.47 1.35L5.41 20z\"/>\n",
       "  </svg>\n",
       "      </button>\n",
       "      \n",
       "  <style>\n",
       "    .colab-df-container {\n",
       "      display:flex;\n",
       "      flex-wrap:wrap;\n",
       "      gap: 12px;\n",
       "    }\n",
       "\n",
       "    .colab-df-convert {\n",
       "      background-color: #E8F0FE;\n",
       "      border: none;\n",
       "      border-radius: 50%;\n",
       "      cursor: pointer;\n",
       "      display: none;\n",
       "      fill: #1967D2;\n",
       "      height: 32px;\n",
       "      padding: 0 0 0 0;\n",
       "      width: 32px;\n",
       "    }\n",
       "\n",
       "    .colab-df-convert:hover {\n",
       "      background-color: #E2EBFA;\n",
       "      box-shadow: 0px 1px 2px rgba(60, 64, 67, 0.3), 0px 1px 3px 1px rgba(60, 64, 67, 0.15);\n",
       "      fill: #174EA6;\n",
       "    }\n",
       "\n",
       "    [theme=dark] .colab-df-convert {\n",
       "      background-color: #3B4455;\n",
       "      fill: #D2E3FC;\n",
       "    }\n",
       "\n",
       "    [theme=dark] .colab-df-convert:hover {\n",
       "      background-color: #434B5C;\n",
       "      box-shadow: 0px 1px 3px 1px rgba(0, 0, 0, 0.15);\n",
       "      filter: drop-shadow(0px 1px 2px rgba(0, 0, 0, 0.3));\n",
       "      fill: #FFFFFF;\n",
       "    }\n",
       "  </style>\n",
       "\n",
       "      <script>\n",
       "        const buttonEl =\n",
       "          document.querySelector('#df-5cc95c08-2ca2-4dbc-bcd4-e86c620d15c3 button.colab-df-convert');\n",
       "        buttonEl.style.display =\n",
       "          google.colab.kernel.accessAllowed ? 'block' : 'none';\n",
       "\n",
       "        async function convertToInteractive(key) {\n",
       "          const element = document.querySelector('#df-5cc95c08-2ca2-4dbc-bcd4-e86c620d15c3');\n",
       "          const dataTable =\n",
       "            await google.colab.kernel.invokeFunction('convertToInteractive',\n",
       "                                                     [key], {});\n",
       "          if (!dataTable) return;\n",
       "\n",
       "          const docLinkHtml = 'Like what you see? Visit the ' +\n",
       "            '<a target=\"_blank\" href=https://colab.research.google.com/notebooks/data_table.ipynb>data table notebook</a>'\n",
       "            + ' to learn more about interactive tables.';\n",
       "          element.innerHTML = '';\n",
       "          dataTable['output_type'] = 'display_data';\n",
       "          await google.colab.output.renderOutput(dataTable, element);\n",
       "          const docLink = document.createElement('div');\n",
       "          docLink.innerHTML = docLinkHtml;\n",
       "          element.appendChild(docLink);\n",
       "        }\n",
       "      </script>\n",
       "    </div>\n",
       "  </div>\n",
       "  "
      ],
      "text/plain": [
       "   year  month  day_of_week  mkt_unique_carrier  mkt_carrier_fl_num  \\\n",
       "0  2019      5            2                   3            1.007068   \n",
       "1  2019      5            2                   3            1.036667   \n",
       "2  2019      5            2                   3           -1.447481   \n",
       "\n",
       "   op_unique_carrier  tail_num  origin  origin_city  dest  dest_city  \\\n",
       "0                  3         3       2            2     4          5   \n",
       "1                  3         3       1            1     5          5   \n",
       "2                  4         2       5            5     5          5   \n",
       "\n",
       "   crs_elapsed_time  flights  distance  target_class  \n",
       "0          0.425950      1.0  0.655085             1  \n",
       "1          0.077483      1.0 -0.063268             1  \n",
       "2         -0.061903      1.0 -0.071780             1  "
      ]
     },
     "execution_count": 21,
     "metadata": {},
     "output_type": "execute_result"
    }
   ],
   "source": [
    "scaled_no_dummy.info()\n",
    "scaled_no_dummy.head(3)"
   ]
  },
  {
   "cell_type": "code",
   "execution_count": 5,
   "id": "3273a987-e6db-4406-85bf-fc175dc22fec",
   "metadata": {
    "colab": {
     "base_uri": "https://localhost:8080/"
    },
    "id": "3273a987-e6db-4406-85bf-fc175dc22fec",
    "outputId": "c53b6a4b-4828-487e-812e-f0602421b2c4"
   },
   "outputs": [
    {
     "data": {
      "text/plain": [
       "RFE(estimator=DecisionTreeClassifier(), n_features_to_select=7)"
      ]
     },
     "execution_count": 5,
     "metadata": {},
     "output_type": "execute_result"
    },
    {
     "name": "stdout",
     "output_type": "stream",
     "text": [
      "Column: 0, Selected False, Rank: 4.000\n",
      "Column: 1, Selected False, Rank: 2.000\n",
      "Column: 2, Selected True, Rank: 1.000\n",
      "Column: 3, Selected False, Rank: 7.000\n",
      "Column: 4, Selected True, Rank: 1.000\n",
      "Column: 5, Selected False, Rank: 3.000\n",
      "Column: 6, Selected True, Rank: 1.000\n",
      "Column: 7, Selected False, Rank: 5.000\n",
      "Column: 8, Selected False, Rank: 6.000\n",
      "Column: 9, Selected True, Rank: 1.000\n",
      "Column: 10, Selected True, Rank: 1.000\n",
      "Column: 11, Selected True, Rank: 1.000\n",
      "Column: 12, Selected False, Rank: 8.000\n",
      "Column: 13, Selected True, Rank: 1.000\n",
      "\n",
      "\n",
      "--- 48.093750953674316 seconds ---\n"
     ]
    }
   ],
   "source": [
    "# start time to measure the time of the program execution\n",
    "start_time = time.time()\n",
    "\n",
    "# Feature Selections through RFE\n",
    "# from sklearn.feature_selection import RFE\n",
    "\n",
    "# define X & y\n",
    "X3 = scaled_no_dummy.iloc[:, :14].values\n",
    "y3 = scaled_no_dummy.iloc[:, 14].values\n",
    "\n",
    "# define RFE\n",
    "rfe5 = RFE(estimator=DecisionTreeClassifier(), n_features_to_select=7)\n",
    "\n",
    "# fit RFE\n",
    "rfe5.fit(X3, y3)\n",
    "\n",
    "# summarize all features\n",
    "for i in range(X3.shape[1]):\n",
    "    print('Column: %d, Selected %s, Rank: %.3f' % (i, rfe5.support_[i], rfe5.ranking_[i]))\n",
    "\n",
    "# print the overall program runtime.\n",
    "print(f\"\\n\\n--- {(time.time() - start_time)} seconds ---\")"
   ]
  },
  {
   "cell_type": "code",
   "execution_count": 6,
   "id": "8342c339-e9c8-44f6-bea1-d1e43bcd9011",
   "metadata": {
    "colab": {
     "base_uri": "https://localhost:8080/"
    },
    "id": "8342c339-e9c8-44f6-bea1-d1e43bcd9011",
    "outputId": "7d360802-085e-4e5f-de04-1e58e8c29e5a"
   },
   "outputs": [
    {
     "data": {
      "text/plain": [
       "RFE(estimator=LogisticRegression(), n_features_to_select=7)"
      ]
     },
     "execution_count": 6,
     "metadata": {},
     "output_type": "execute_result"
    },
    {
     "name": "stdout",
     "output_type": "stream",
     "text": [
      "Column: 0, Selected False, Rank: 7.000\n",
      "Column: 1, Selected False, Rank: 6.000\n",
      "Column: 2, Selected False, Rank: 5.000\n",
      "Column: 3, Selected True, Rank: 1.000\n",
      "Column: 4, Selected True, Rank: 1.000\n",
      "Column: 5, Selected True, Rank: 1.000\n",
      "Column: 6, Selected False, Rank: 4.000\n",
      "Column: 7, Selected False, Rank: 3.000\n",
      "Column: 8, Selected True, Rank: 1.000\n",
      "Column: 9, Selected True, Rank: 1.000\n",
      "Column: 10, Selected False, Rank: 2.000\n",
      "Column: 11, Selected True, Rank: 1.000\n",
      "Column: 12, Selected False, Rank: 8.000\n",
      "Column: 13, Selected True, Rank: 1.000\n",
      "\n",
      "\n",
      "--- 39.64962387084961 seconds ---\n"
     ]
    }
   ],
   "source": [
    "# start time to measure the time of the program execution\n",
    "start_time = time.time()\n",
    "\n",
    "# Feature Selections through RFE\n",
    "# from sklearn.feature_selection import RFE\n",
    "\n",
    "# define RFE\n",
    "rfe6 = RFE(estimator=LogisticRegression(), n_features_to_select=7)\n",
    "\n",
    "# fit RFE\n",
    "rfe6.fit(X3, y3)\n",
    "\n",
    "# summarize all features\n",
    "for i in range(X3.shape[1]):\n",
    "    print('Column: %d, Selected %s, Rank: %.3f' % (i, rfe6.support_[i], rfe6.ranking_[i]))\n",
    "\n",
    "# print the overall program runtime.\n",
    "print(f\"\\n\\n--- {(time.time() - start_time)} seconds ---\")"
   ]
  },
  {
   "cell_type": "code",
   "execution_count": 18,
   "id": "4f4b1f7a-54e4-42e4-b8c5-dc0dce737ead",
   "metadata": {
    "colab": {
     "base_uri": "https://localhost:8080/",
     "height": 1000
    },
    "id": "4f4b1f7a-54e4-42e4-b8c5-dc0dce737ead",
    "outputId": "e0b8783c-fce4-4296-f2dc-ba97c8c9e13d"
   },
   "outputs": [
    {
     "data": {
      "text/plain": [
       "RandomForestClassifier(random_state=0)"
      ]
     },
     "execution_count": 18,
     "metadata": {},
     "output_type": "execute_result"
    },
    {
     "data": {
      "text/plain": [
       "mkt_carrier_fl_num    0.248034\n",
       "crs_elapsed_time      0.209388\n",
       "distance              0.177535\n",
       "month                 0.101220\n",
       "day_of_week           0.085099\n",
       "tail_num              0.040926\n",
       "dest                  0.029121\n",
       "dest_city             0.028552\n",
       "origin                0.019868\n",
       "year                  0.019130\n",
       "origin_city           0.018260\n",
       "op_unique_carrier     0.016707\n",
       "mkt_unique_carrier    0.006160\n",
       "flights               0.000000\n",
       "dtype: float64"
      ]
     },
     "execution_count": 18,
     "metadata": {},
     "output_type": "execute_result"
    },
    {
     "data": {
      "text/plain": [
       "<Figure size 1200x960 with 0 Axes>"
      ]
     },
     "execution_count": 18,
     "metadata": {},
     "output_type": "execute_result"
    },
    {
     "data": {
      "text/plain": [
       "<matplotlib.axes._subplots.AxesSubplot at 0x7f82354efd10>"
      ]
     },
     "execution_count": 18,
     "metadata": {},
     "output_type": "execute_result"
    },
    {
     "data": {
      "text/plain": [
       "Text(0.5, 0, 'Feature Importance Score')"
      ]
     },
     "execution_count": 18,
     "metadata": {},
     "output_type": "execute_result"
    },
    {
     "data": {
      "text/plain": [
       "Text(0, 0.5, 'Features')"
      ]
     },
     "execution_count": 18,
     "metadata": {},
     "output_type": "execute_result"
    },
    {
     "data": {
      "text/plain": [
       "Text(0.5, 1.0, 'Visualizing Important Features')"
      ]
     },
     "execution_count": 18,
     "metadata": {},
     "output_type": "execute_result"
    },
    {
     "data": {
      "image/png": "[encoded data removed]",
      "text/plain": [
       "<Figure size 1200x960 with 1 Axes>"
      ]
     },
     "metadata": {
      "needs_background": "light"
     },
     "output_type": "display_data"
    },
    {
     "name": "stdout",
     "output_type": "stream",
     "text": [
      "\n",
      "\n",
      "--- 122.32455778121948 seconds ---\n"
     ]
    }
   ],
   "source": [
    "# start time to measure the time of the program execution\n",
    "start_time = time.time()\n",
    "\n",
    "# Assign X & y\n",
    "X4 = scaled_no_dummy.iloc[:, :14]\n",
    "y4 = scaled_no_dummy.iloc[:, 14]\n",
    "\n",
    "# split data into training and testing sets\n",
    "X_train1, X_test1, y_train1, y_test1 = train_test_split(X4, y4, test_size = 0.20, random_state = 42)\n",
    "\n",
    "# create the classifier with n_estimators = 100\n",
    "clf1 = RandomForestClassifier(n_estimators=100, random_state=0)\n",
    "\n",
    "# fit the model to the training set\n",
    "clf1.fit(X_train1, y_train1)\n",
    "\n",
    "# view the feature scores\n",
    "feature_scores1 = pd.Series(clf1.feature_importances_, \n",
    "                           index=X_train1.columns).sort_values(ascending=False)\n",
    "\n",
    "feature_scores1\n",
    "\n",
    "# Creating a seaborn bar plot\n",
    "figure(figsize=(15, 12), dpi=80)\n",
    "sns.barplot(x=feature_scores1, y=feature_scores1.index)\n",
    "\n",
    "plt.xlabel('Feature Importance Score')\n",
    "plt.ylabel('Features')\n",
    "plt.title(\"Visualizing Important Features\")\n",
    "plt.show()\n",
    "\n",
    "# print the overall program runtime.\n",
    "print(f\"\\n\\n--- {(time.time() - start_time)} seconds ---\")"
   ]
  },
  {
   "cell_type": "code",
   "execution_count": 19,
   "id": "87eaff51-3624-4919-8d74-d17c3dc92464",
   "metadata": {
    "colab": {
     "base_uri": "https://localhost:8080/"
    },
    "id": "87eaff51-3624-4919-8d74-d17c3dc92464",
    "outputId": "e29f2069-3407-4bd1-8fb8-ac2b415349bd"
   },
   "outputs": [
    {
     "data": {
      "text/plain": [
       "RandomForestClassifier()"
      ]
     },
     "execution_count": 19,
     "metadata": {},
     "output_type": "execute_result"
    },
    {
     "name": "stdout",
     "output_type": "stream",
     "text": [
      "\n",
      "\n",
      "--- 134.13099575042725 seconds ---\n"
     ]
    }
   ],
   "source": [
    "# start time to measure the time of the program execution\n",
    "start_time = time.time()\n",
    "\n",
    "# Fit Random Forest Model\n",
    "rf2 = RandomForestClassifier()\n",
    "rf2.fit(X_train1, y_train1)\n",
    "y_pred_rf2 = rf2.predict(X_test1)\n",
    "\n",
    "# print the overall program runtime.\n",
    "print(f\"\\n\\n--- {(time.time() - start_time)} seconds ---\")"
   ]
  },
  {
   "cell_type": "code",
   "execution_count": 22,
   "id": "4af90102-d11b-4d06-9f74-00603ba4e18f",
   "metadata": {
    "colab": {
     "base_uri": "https://localhost:8080/"
    },
    "id": "4af90102-d11b-4d06-9f74-00603ba4e18f",
    "outputId": "763b3111-079e-4727-b717-1e18c6d17b93"
   },
   "outputs": [
    {
     "data": {
      "text/plain": [
       "LogisticRegression(random_state=0)"
      ]
     },
     "execution_count": 22,
     "metadata": {},
     "output_type": "execute_result"
    },
    {
     "name": "stdout",
     "output_type": "stream",
     "text": [
      "\n",
      "\n",
      "--- 5.114914894104004 seconds ---\n"
     ]
    }
   ],
   "source": [
    "# start time to measure the time of the program execution\n",
    "start_time = time.time()\n",
    "\n",
    "# Fit Logistic Regression Model\n",
    "lg2 = LogisticRegression(random_state=0)\n",
    "lg2.fit(X_train1, y_train1)\n",
    "y_pred_lg2 = lg2.predict(X_test1)\n",
    "\n",
    "# print the overall program runtime.\n",
    "print(f\"\\n\\n--- {(time.time() - start_time)} seconds ---\")"
   ]
  },
  {
   "cell_type": "code",
   "execution_count": 23,
   "id": "3b59c8c1-bddf-471c-bf4e-ab8fd61d8273",
   "metadata": {
    "colab": {
     "base_uri": "https://localhost:8080/"
    },
    "id": "3b59c8c1-bddf-471c-bf4e-ab8fd61d8273",
    "outputId": "29d563b0-a7fa-4451-d0f1-84408344a3fb"
   },
   "outputs": [
    {
     "data": {
      "text/plain": [
       "GaussianNB()"
      ]
     },
     "execution_count": 23,
     "metadata": {},
     "output_type": "execute_result"
    },
    {
     "name": "stdout",
     "output_type": "stream",
     "text": [
      "\n",
      "\n",
      "--- 0.25831174850463867 seconds ---\n"
     ]
    }
   ],
   "source": [
    "# start time to measure the time of the program execution\n",
    "start_time = time.time()\n",
    "\n",
    "# Fit Guasian Naive Bays Model\n",
    "gnb2 = GaussianNB()\n",
    "gnb2.fit(X_train1, y_train1)\n",
    "y_pred_gnb2 = gnb2.predict(X_test1)\n",
    "\n",
    "# print the overall program runtime.\n",
    "print(f\"\\n\\n--- {(time.time() - start_time)} seconds ---\")"
   ]
  },
  {
   "cell_type": "code",
   "execution_count": 24,
   "id": "b02dae5c-bfce-496d-9510-f128faf02081",
   "metadata": {
    "colab": {
     "base_uri": "https://localhost:8080/"
    },
    "id": "b02dae5c-bfce-496d-9510-f128faf02081",
    "outputId": "b5ec2e09-3d43-40db-b052-c31c7ae0b8a4"
   },
   "outputs": [
    {
     "data": {
      "text/plain": [
       "DecisionTreeClassifier()"
      ]
     },
     "execution_count": 24,
     "metadata": {},
     "output_type": "execute_result"
    },
    {
     "name": "stdout",
     "output_type": "stream",
     "text": [
      "\n",
      "\n",
      "--- 5.715975046157837 seconds ---\n"
     ]
    }
   ],
   "source": [
    "# start time to measure the time of the program execution\n",
    "start_time = time.time()\n",
    "\n",
    "# Fit Decision Tree\n",
    "dt2 = DecisionTreeClassifier()\n",
    "dt2.fit(X_train1, y_train1)\n",
    "y_pred_dt2 = dt2.predict(X_test1)\n",
    "\n",
    "# print the overall program runtime.\n",
    "print(f\"\\n\\n--- {(time.time() - start_time)} seconds ---\")"
   ]
  },
  {
   "cell_type": "code",
   "execution_count": 25,
   "id": "66128ee8-b3ef-4afa-aad2-fa83fd4b352d",
   "metadata": {
    "colab": {
     "base_uri": "https://localhost:8080/"
    },
    "id": "66128ee8-b3ef-4afa-aad2-fa83fd4b352d",
    "outputId": "41a42165-88b2-4917-ec3f-2edb006f0a7f"
   },
   "outputs": [
    {
     "data": {
      "text/plain": [
       "SGDClassifier()"
      ]
     },
     "execution_count": 25,
     "metadata": {},
     "output_type": "execute_result"
    },
    {
     "name": "stdout",
     "output_type": "stream",
     "text": [
      "\n",
      "\n",
      "--- 56.37745499610901 seconds ---\n"
     ]
    }
   ],
   "source": [
    "# start time to measure the time of the program execution\n",
    "start_time = time.time()\n",
    "\n",
    "# Fit Stochastic Gradient Classifier\n",
    "sgd2 = SGDClassifier()\n",
    "sgd2.fit(X_train1, y_train1)\n",
    "y_pred_sgd2 = sgd2.predict(X_test1)\n",
    "\n",
    "# print the overall program runtime.\n",
    "print(f\"\\n\\n--- {(time.time() - start_time)} seconds ---\")"
   ]
  },
  {
   "cell_type": "code",
   "execution_count": 26,
   "id": "8777b46f-e438-4780-8206-28727d9f3ea0",
   "metadata": {
    "colab": {
     "base_uri": "https://localhost:8080/"
    },
    "id": "8777b46f-e438-4780-8206-28727d9f3ea0",
    "outputId": "bf5dedee-8557-47b4-add0-3aced02cb634"
   },
   "outputs": [
    {
     "data": {
      "text/plain": [
       "XGBClassifier()"
      ]
     },
     "execution_count": 26,
     "metadata": {},
     "output_type": "execute_result"
    },
    {
     "name": "stdout",
     "output_type": "stream",
     "text": [
      "\n",
      "\n",
      "--- 31.801268577575684 seconds ---\n"
     ]
    }
   ],
   "source": [
    "# start time to measure the time of the program execution\n",
    "start_time = time.time()\n",
    "\n",
    "# Fit XGBoost Classifier\n",
    "xgb2 = XGBClassifier()\n",
    "xgb2.fit(X_train1, y_train1)\n",
    "y_pred_xgb2 = xgb2.predict(X_test1)\n",
    "\n",
    "# print the overall program runtime.\n",
    "print(f\"\\n\\n--- {(time.time() - start_time)} seconds ---\")"
   ]
  },
  {
   "cell_type": "code",
   "execution_count": 27,
   "id": "d075f9c2-80d1-49de-8c8b-9203f925db17",
   "metadata": {
    "colab": {
     "base_uri": "https://localhost:8080/",
     "height": 231
    },
    "id": "d075f9c2-80d1-49de-8c8b-9203f925db17",
    "outputId": "35451c8b-37c7-4fb2-fa3f-4fb1db702746"
   },
   "outputs": [
    {
     "data": {
      "text/html": [
       "\n",
       "  <div id=\"df-7d1a09e1-0b92-4752-8f70-3952c77b82e0\">\n",
       "    <div class=\"colab-df-container\">\n",
       "      <div>\n",
       "<style scoped>\n",
       "    .dataframe tbody tr th:only-of-type {\n",
       "        vertical-align: middle;\n",
       "    }\n",
       "\n",
       "    .dataframe tbody tr th {\n",
       "        vertical-align: top;\n",
       "    }\n",
       "\n",
       "    .dataframe thead th {\n",
       "        text-align: right;\n",
       "    }\n",
       "</style>\n",
       "<table border=\"1\" class=\"dataframe\">\n",
       "  <thead>\n",
       "    <tr style=\"text-align: right;\">\n",
       "      <th></th>\n",
       "      <th>RF</th>\n",
       "      <th>LogisticR</th>\n",
       "      <th>GNB</th>\n",
       "      <th>DecisionT</th>\n",
       "      <th>SGD</th>\n",
       "      <th>XGB</th>\n",
       "    </tr>\n",
       "  </thead>\n",
       "  <tbody>\n",
       "    <tr>\n",
       "      <th>accuracy</th>\n",
       "      <td>0.553972</td>\n",
       "      <td>0.525692</td>\n",
       "      <td>0.525404</td>\n",
       "      <td>0.527689</td>\n",
       "      <td>0.500331</td>\n",
       "      <td>0.554174</td>\n",
       "    </tr>\n",
       "    <tr>\n",
       "      <th>f1_score</th>\n",
       "      <td>0.553972</td>\n",
       "      <td>0.525692</td>\n",
       "      <td>0.525404</td>\n",
       "      <td>0.527689</td>\n",
       "      <td>0.500331</td>\n",
       "      <td>0.554174</td>\n",
       "    </tr>\n",
       "    <tr>\n",
       "      <th>precision</th>\n",
       "      <td>0.553972</td>\n",
       "      <td>0.525692</td>\n",
       "      <td>0.525404</td>\n",
       "      <td>0.527689</td>\n",
       "      <td>0.500331</td>\n",
       "      <td>0.554174</td>\n",
       "    </tr>\n",
       "    <tr>\n",
       "      <th>recall</th>\n",
       "      <td>0.553972</td>\n",
       "      <td>0.525692</td>\n",
       "      <td>0.525404</td>\n",
       "      <td>0.527689</td>\n",
       "      <td>0.500331</td>\n",
       "      <td>0.554174</td>\n",
       "    </tr>\n",
       "  </tbody>\n",
       "</table>\n",
       "</div>\n",
       "      <button class=\"colab-df-convert\" onclick=\"convertToInteractive('df-7d1a09e1-0b92-4752-8f70-3952c77b82e0')\"\n",
       "              title=\"Convert this dataframe to an interactive table.\"\n",
       "              style=\"display:none;\">\n",
       "        \n",
       "  <svg xmlns=\"http://www.w3.org/2000/svg\" height=\"24px\"viewBox=\"0 0 24 24\"\n",
       "       width=\"24px\">\n",
       "    <path d=\"M0 0h24v24H0V0z\" fill=\"none\"/>\n",
       "    <path d=\"M18.56 5.44l.94 2.06.94-2.06 2.06-.94-2.06-.94-.94-2.06-.94 2.06-2.06.94zm-11 1L8.5 8.5l.94-2.06 2.06-.94-2.06-.94L8.5 2.5l-.94 2.06-2.06.94zm10 10l.94 2.06.94-2.06 2.06-.94-2.06-.94-.94-2.06-.94 2.06-2.06.94z\"/><path d=\"M17.41 7.96l-1.37-1.37c-.4-.4-.92-.59-1.43-.59-.52 0-1.04.2-1.43.59L10.3 9.45l-7.72 7.72c-.78.78-.78 2.05 0 2.83L4 21.41c.39.39.9.59 1.41.59.51 0 1.02-.2 1.41-.59l7.78-7.78 2.81-2.81c.8-.78.8-2.07 0-2.86zM5.41 20L4 18.59l7.72-7.72 1.47 1.35L5.41 20z\"/>\n",
       "  </svg>\n",
       "      </button>\n",
       "      \n",
       "  <style>\n",
       "    .colab-df-container {\n",
       "      display:flex;\n",
       "      flex-wrap:wrap;\n",
       "      gap: 12px;\n",
       "    }\n",
       "\n",
       "    .colab-df-convert {\n",
       "      background-color: #E8F0FE;\n",
       "      border: none;\n",
       "      border-radius: 50%;\n",
       "      cursor: pointer;\n",
       "      display: none;\n",
       "      fill: #1967D2;\n",
       "      height: 32px;\n",
       "      padding: 0 0 0 0;\n",
       "      width: 32px;\n",
       "    }\n",
       "\n",
       "    .colab-df-convert:hover {\n",
       "      background-color: #E2EBFA;\n",
       "      box-shadow: 0px 1px 2px rgba(60, 64, 67, 0.3), 0px 1px 3px 1px rgba(60, 64, 67, 0.15);\n",
       "      fill: #174EA6;\n",
       "    }\n",
       "\n",
       "    [theme=dark] .colab-df-convert {\n",
       "      background-color: #3B4455;\n",
       "      fill: #D2E3FC;\n",
       "    }\n",
       "\n",
       "    [theme=dark] .colab-df-convert:hover {\n",
       "      background-color: #434B5C;\n",
       "      box-shadow: 0px 1px 3px 1px rgba(0, 0, 0, 0.15);\n",
       "      filter: drop-shadow(0px 1px 2px rgba(0, 0, 0, 0.3));\n",
       "      fill: #FFFFFF;\n",
       "    }\n",
       "  </style>\n",
       "\n",
       "      <script>\n",
       "        const buttonEl =\n",
       "          document.querySelector('#df-7d1a09e1-0b92-4752-8f70-3952c77b82e0 button.colab-df-convert');\n",
       "        buttonEl.style.display =\n",
       "          google.colab.kernel.accessAllowed ? 'block' : 'none';\n",
       "\n",
       "        async function convertToInteractive(key) {\n",
       "          const element = document.querySelector('#df-7d1a09e1-0b92-4752-8f70-3952c77b82e0');\n",
       "          const dataTable =\n",
       "            await google.colab.kernel.invokeFunction('convertToInteractive',\n",
       "                                                     [key], {});\n",
       "          if (!dataTable) return;\n",
       "\n",
       "          const docLinkHtml = 'Like what you see? Visit the ' +\n",
       "            '<a target=\"_blank\" href=https://colab.research.google.com/notebooks/data_table.ipynb>data table notebook</a>'\n",
       "            + ' to learn more about interactive tables.';\n",
       "          element.innerHTML = '';\n",
       "          dataTable['output_type'] = 'display_data';\n",
       "          await google.colab.output.renderOutput(dataTable, element);\n",
       "          const docLink = document.createElement('div');\n",
       "          docLink.innerHTML = docLinkHtml;\n",
       "          element.appendChild(docLink);\n",
       "        }\n",
       "      </script>\n",
       "    </div>\n",
       "  </div>\n",
       "  "
      ],
      "text/plain": [
       "                 RF  LogisticR       GNB  DecisionT       SGD       XGB\n",
       "accuracy   0.553972   0.525692  0.525404   0.527689  0.500331  0.554174\n",
       "f1_score   0.553972   0.525692  0.525404   0.527689  0.500331  0.554174\n",
       "precision  0.553972   0.525692  0.525404   0.527689  0.500331  0.554174\n",
       "recall     0.553972   0.525692  0.525404   0.527689  0.500331  0.554174"
      ]
     },
     "execution_count": 27,
     "metadata": {},
     "output_type": "execute_result"
    },
    {
     "name": "stdout",
     "output_type": "stream",
     "text": [
      "\n",
      "\n",
      "--- 1.1234393119812012 seconds ---\n"
     ]
    }
   ],
   "source": [
    "# start time to measure the time of the program execution\n",
    "start_time = time.time()\n",
    "\n",
    "# Check performance metrics - scores\n",
    "classification_metrics(y_test1, y_pred_rf2, y_pred_lg2, y_pred_gnb2, \n",
    "                           y_pred_dt2, y_pred_sgd2, y_pred_xgb2)\n",
    "\n",
    "# print the overall program runtime.\n",
    "print(f\"\\n\\n--- {(time.time() - start_time)} seconds ---\")"
   ]
  },
  {
   "cell_type": "code",
   "execution_count": null,
   "id": "f4da3247-0eea-4a65-8fda-0752097a8f44",
   "metadata": {
    "id": "f4da3247-0eea-4a65-8fda-0752097a8f44"
   },
   "outputs": [],
   "source": []
  },
  {
   "cell_type": "code",
   "execution_count": null,
   "id": "fc636fb3-fba6-4e01-a351-a1938ac673b0",
   "metadata": {
    "id": "fc636fb3-fba6-4e01-a351-a1938ac673b0"
   },
   "outputs": [],
   "source": []
  }
 ],
 "metadata": {
  "colab": {
   "collapsed_sections": [
    "98cc3d0f-e194-47ac-9c3b-09ad9a769c26",
    "c06326e4-e0da-4fc7-835c-69eee1dcf325",
    "8ee61ba1-370e-4ca7-96ff-17cc41f39fd8",
    "844dba27-d43e-4f55-82cd-4f9fc530e7d3",
    "9d8cce31-b060-43c9-83c3-4c9110453aa0",
    "82e85ae7-a670-4e2d-8aca-98c3c04cf2d6",
    "f70b4b73-d58a-41d8-8a8a-b706f130d10d",
    "3f135a50-8ebb-498d-ac8f-75f13f6d8cc1",
    "c313e46c-0303-461a-9f08-c7f73ccb1a37",
    "892ef006-a47d-4b04-aac4-6321ac2ec66e",
    "07b22da1-8a40-4f1b-96da-607e7da6a86b"
   ],
   "name": "feature_selection.ipynb",
   "provenance": []
  },
  "kernelspec": {
   "display_name": "Python 3 (ipykernel)",
   "language": "python",
   "name": "python3"
  },
  "language_info": {
   "codemirror_mode": {
    "name": "ipython",
    "version": 3
   },
   "file_extension": ".py",
   "mimetype": "text/x-python",
   "name": "python",
   "nbconvert_exporter": "python",
   "pygments_lexer": "ipython3",
   "version": "3.9.7"
  }
 },
 "nbformat": 4,
 "nbformat_minor": 5
}
